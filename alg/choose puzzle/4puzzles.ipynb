{
 "cells": [
  {
   "cell_type": "code",
   "execution_count": 64,
   "id": "initial_id",
   "metadata": {
    "collapsed": true,
    "ExecuteTime": {
     "end_time": "2024-04-09T00:03:26.392293Z",
     "start_time": "2024-04-09T00:03:26.384855Z"
    }
   },
   "outputs": [],
   "source": [
    "import numpy as np\n",
    "import matplotlib.pyplot as plt"
   ]
  },
  {
   "cell_type": "code",
   "outputs": [],
   "source": [
    "def visualize_maze(maze, steps):\n",
    "    maze_array = np.array(maze)\n",
    "    steps_array = np.array(steps)\n",
    "\n",
    "    cmap = plt.cm.colors.ListedColormap(['red', 'white', 'green'])\n",
    "    bounds = [-0.5, 0.5, 1.5, 2.5]\n",
    "    norm = plt.cm.colors.BoundaryNorm(bounds, cmap.N)\n",
    "\n",
    "    fig, ax = plt.subplots(figsize=(5,5))\n",
    "    ax.imshow(maze_array, cmap=cmap, norm=norm)\n",
    "\n",
    "    ax.grid(which='major', axis='both', linestyle='-', color='k', linewidth=2)\n",
    "    ax.set_xticks(np.arange(-.5, len(maze[0]), 1))\n",
    "    ax.set_yticks(np.arange(-.5, len(maze), 1))\n",
    "\n",
    "    # Hide axes\n",
    "    ax.xaxis.set_ticklabels([])\n",
    "    ax.yaxis.set_ticklabels([])\n",
    "    ax.xaxis.set_ticks_position('none')\n",
    "    ax.yaxis.set_ticks_position('none')\n",
    "\n",
    "    # Adding step counts as text on each cell\n",
    "    for i in range(len(steps_array)):\n",
    "        for j in range(len(steps_array[0])):\n",
    "            if steps_array[i][j] != 9999:\n",
    "                ax.text(j, i, str(steps_array[i][j]), ha='center', va='center', color='black')\n",
    "\n",
    "    plt.show()\n",
    "\n"
   ],
   "metadata": {
    "collapsed": false,
    "ExecuteTime": {
     "end_time": "2024-04-09T00:03:26.987398Z",
     "start_time": "2024-04-09T00:03:26.981152Z"
    }
   },
   "id": "9e2dfff9ec626f8b",
   "execution_count": 65
  },
  {
   "cell_type": "code",
   "outputs": [],
   "source": [
    "class QNode:\n",
    "    def __init__(self, value):\n",
    "        self.value = value\n",
    "        self.next = None\n",
    "\n",
    "class Queue:\n",
    "    def __init__(self):\n",
    "        self.front = None\n",
    "        self.rear = None\n",
    "\n",
    "    def is_empty(self):\n",
    "        return self.front is None\n",
    "\n",
    "    def enqueue(self, value):\n",
    "        new_node = QNode(value)\n",
    "        if self.rear is None:\n",
    "            self.front = self.rear = new_node\n",
    "            return\n",
    "        self.rear.next = new_node\n",
    "        self.rear = new_node\n",
    "\n",
    "    def dequeue(self):\n",
    "        if self.is_empty():\n",
    "            raise Exception(\"Trying to dequeue from an empty queue\")\n",
    "        temp = self.front\n",
    "        self.front = self.front.next\n",
    "        if self.front is None:\n",
    "            self.rear = None\n",
    "        return temp.value\n",
    "\n",
    "    def peek(self):\n",
    "        if self.is_empty():\n",
    "            raise Exception(\"Trying to peek from an empty queue\")\n",
    "        return self.front.value"
   ],
   "metadata": {
    "collapsed": false,
    "ExecuteTime": {
     "end_time": "2024-04-09T00:03:36.298771Z",
     "start_time": "2024-04-09T00:03:36.290718Z"
    }
   },
   "id": "43e19ace41c1395c",
   "execution_count": 66
  },
  {
   "cell_type": "code",
   "outputs": [],
   "source": [
    "def create_filled_matrix_np(original_matrix, fill_value):\n",
    "    return np.full_like(original_matrix, fill_value)"
   ],
   "metadata": {
    "collapsed": false,
    "ExecuteTime": {
     "end_time": "2024-04-09T00:03:37.143874Z",
     "start_time": "2024-04-09T00:03:37.140040Z"
    }
   },
   "id": "b611583a38df666b",
   "execution_count": 67
  },
  {
   "cell_type": "code",
   "outputs": [],
   "source": [
    "class QItem:\n",
    "    def __init__(self, steps, i, j):\n",
    "        self.steps = steps\n",
    "        self.i = i\n",
    "        self.j = j"
   ],
   "metadata": {
    "collapsed": false,
    "ExecuteTime": {
     "end_time": "2024-04-09T00:03:37.702124Z",
     "start_time": "2024-04-09T00:03:37.698791Z"
    }
   },
   "id": "a6c75a9e6b9fd94f",
   "execution_count": 68
  },
  {
   "cell_type": "code",
   "outputs": [
    {
     "name": "stdout",
     "output_type": "stream",
     "text": [
      "Path from start to exit: [(0, 0), (1, 0), (1, 1), (1, 2), (2, 2), (3, 2), (4, 2), (5, 2), (5, 3), (6, 3), (7, 3), (7, 2), (7, 1), (8, 1), (8, 0), (9, 0), (10, 0), (11, 0), (12, 0), (13, 0), (14, 0), (15, 0), (16, 0), (17, 0), (18, 0), (19, 0)]\n",
      "Steps from start to exit: 25\n"
     ]
    },
    {
     "data": {
      "text/plain": "<Figure size 500x500 with 1 Axes>",
      "image/png": "[encoded data removed]"
     },
     "metadata": {},
     "output_type": "display_data"
    }
   ],
   "source": [
    "def is_valid_move(maze, x, y, visited):\n",
    "    if 0 <= x < len(maze) and 0 <= y < len(maze[0]) and not visited[x][y]:\n",
    "        return maze[x][y] != 0  # Check if the cell is not a wall (0) and not visited.\n",
    "    return False\n",
    "\n",
    "\n",
    "def bfs_maze(maze, steps_matrix, start_i, start_j):\n",
    "    directions = [(-1, 0), (1, 0), (0, -1), (0, 1)]\n",
    "    visited = create_filled_matrix_np(maze, False)\n",
    "    \n",
    "    queue = Queue()\n",
    "    queue.enqueue(QItem(0,start_i, start_j))\n",
    "    \n",
    "    steps_matrix[start_i][start_j] = 0\n",
    "    visited[start_i][start_j] = True\n",
    "\n",
    "    while not queue.is_empty():\n",
    "        current = queue.dequeue()\n",
    "\n",
    "        if maze[current.i][current.j] == 2:\n",
    "            return current\n",
    "\n",
    "        for di, dj in directions:\n",
    "            ni, nj = current.i + di, current.j + dj\n",
    "            \n",
    "            if is_valid_move(maze, ni, nj, visited):\n",
    "                if steps_matrix[ni][nj] > current.steps + 1:\n",
    "                    steps_matrix[ni][nj] = current.steps + 1\n",
    "                    queue.enqueue(QItem(current.steps + 1, ni, nj))\n",
    "                    visited[ni][nj] = True\n",
    "    return -1\n",
    "\n",
    "\n",
    "\n",
    "def trace_back_path(steps_m, exit_i, exit_j):\n",
    "    path = []\n",
    "    current_i, current_j = exit_i, exit_j\n",
    "    directions = [(-1, 0), (1, 0), (0, -1), (0, 1)]\n",
    "\n",
    "    path.append((current_i, current_j))\n",
    "\n",
    "    while steps_m[current_i][current_j] != 0:\n",
    "        current_step = steps_m[current_i][current_j]\n",
    "\n",
    "        for di, dj in directions:\n",
    "            ni, nj = current_i + di, current_j + dj\n",
    "            if 0 <= ni < len(steps_m) and 0 <= nj < len(steps_m[0]):\n",
    "                if steps_m[ni][nj] == current_step - 1:\n",
    "                    path.append((ni, nj))\n",
    "                    current_i, current_j = ni, nj\n",
    "                    break\n",
    "\n",
    "    path.reverse()\n",
    "    return path\n",
    "\n",
    "maze = [\n",
    "    [1, 0, 1, 1, 1, 1, 0, 1, 1, 0, 1, 1, 1, 1, 1, 1, 0, 1, 1, 1],\n",
    "    [1, 1, 1, 0, 0, 1, 1, 1, 0, 1, 0, 0, 1, 1, 0, 1, 1, 1, 0, 1],\n",
    "    [0, 0, 1, 0, 1, 1, 0, 1, 1, 1, 1, 0, 1, 0, 1, 1, 0, 1, 1, 1],\n",
    "    [1, 1, 1, 1, 0, 0, 1, 0, 1, 1, 1, 1, 0, 1, 1, 0, 1, 0, 0, 1],\n",
    "    [1, 0, 1, 0, 1, 1, 1, 1, 1, 0, 0, 1, 1, 1, 1, 1, 1, 1, 1, 0],\n",
    "    [1, 1, 1, 1, 1, 0, 1, 1, 0, 1, 0, 1, 0, 1, 1, 0, 1, 1, 1, 1],\n",
    "    [1, 0, 0, 1, 0, 1, 1, 0, 1, 1, 1, 1, 1, 0, 1, 1, 1, 1, 1, 0],\n",
    "    [0, 1, 1, 1, 1, 0, 0, 1, 1, 1, 0, 1, 1, 1, 1, 0, 0, 1, 0, 1],\n",
    "    [1, 1, 1, 0, 0, 1, 1, 0, 1, 1, 1, 1, 0, 1, 1, 1, 1, 1, 1, 1],\n",
    "    [1, 0, 1, 1, 1, 0, 1, 1, 1, 0, 0, 1, 1, 0, 1, 0, 1, 1, 1, 0],\n",
    "    [1, 1, 0, 0, 1, 1, 1, 1, 0, 1, 1, 1, 1, 1, 1, 1, 0, 1, 1, 1],\n",
    "    [1, 1, 1, 0, 1, 1, 1, 1, 0, 1, 1, 0, 1, 1, 0, 1, 1, 0, 1, 1],\n",
    "    [1, 0, 1, 1, 1, 0, 1, 1, 1, 1, 0, 1, 1, 1, 1, 1, 0, 1, 1, 1],\n",
    "    [1, 1, 1, 1, 1, 0, 1, 1, 0, 1, 0, 1, 1, 1, 1, 1, 1, 0, 1, 0],\n",
    "    [1, 0, 1, 1, 0, 0, 1, 1, 0, 1, 0, 1, 1, 1, 0, 1, 1, 1, 1, 1],\n",
    "    [1, 1, 1, 1, 1, 0, 1, 1, 1, 1, 1, 0, 1, 0, 1, 0, 1, 1, 0, 1],\n",
    "    [1, 0, 0, 1, 1, 1, 1, 1, 1, 1, 0, 1, 0, 1, 1, 1, 1, 1, 1, 0],\n",
    "    [1, 1, 1, 0, 1, 1, 1, 1, 1, 1, 1, 0, 1, 0, 0, 1, 0, 1, 1, 1],\n",
    "    [1, 0, 1, 1, 1, 1, 1, 1, 0, 1, 0, 1, 1, 1, 1, 1, 1, 0, 1, 1],\n",
    "    [2, 1, 1, 1, 1, 1, 1, 1, 1, 1, 1, 1, 1, 1, 1, 1, 1, 1, 1, 1]\n",
    "]\n",
    "\n",
    "steps_matrix = create_filled_matrix_np(maze, 9999)\n",
    "\n",
    "result = bfs_maze(maze,steps_matrix , 0, 0)\n",
    "if result != -1:\n",
    "    path = trace_back_path(steps_matrix, result.i, result.j)\n",
    "    print(\"Path from start to exit:\", path)\n",
    "    print(\"Steps from start to exit:\", result.steps)\n",
    "else:\n",
    "    print(\"No path found.\")\n",
    "\n",
    "visualize_maze(maze, steps_matrix)\n"
   ],
   "metadata": {
    "collapsed": false,
    "ExecuteTime": {
     "end_time": "2024-04-09T00:05:25.548934Z",
     "start_time": "2024-04-09T00:05:25.302086Z"
    }
   },
   "id": "57501d338ba64238",
   "execution_count": 73
  },
  {
   "cell_type": "code",
   "outputs": [],
   "source": [
    "maze_test1 = [\n",
    "    [1, 1, 1, 1, 1, 1, 1, 1, 1, 1, 1, 1, 1, 1, 1, 1, 1, 1, 1, 2]\n",
    "]\n",
    "\n",
    "\n",
    "maze_test2 = [\n",
    "    [1, 1, 1, 1, 1, 1, 1, 1, 1, 1, 1, 1, 1, 1, 1, 1, 1, 1, 1, 1],\n",
    "    [1, 1, 1, 1, 1, 1, 1, 1, 1, 1, 1, 1, 1, 1, 1, 1, 1, 1, 1, 1]\n",
    "]\n",
    "\n",
    "\n",
    "maze_test3 = [\n",
    "    [1, 0, 0, 0, 0, 0, 0, 0, 0, 0, 0, 0, 0, 0, 0, 0, 0, 0, 0, 1],\n",
    "    [1, 1, 1, 1, 1, 1, 1, 1, 1, 1, 1, 1, 1, 1, 1, 1, 1, 1, 1, 1],\n",
    "    [1, 0, 0, 0, 0, 0, 0, 0, 0, 0, 0, 0, 0, 0, 0, 0, 0, 0, 0, 1],\n",
    "    [1, 0, 1, 1, 1, 1, 1, 1, 1, 1, 1, 1, 1, 1, 1, 1, 1, 1, 1, 1],\n",
    "    [1, 0, 1, 0, 0, 0, 0, 0, 0, 0, 0, 0, 0, 0, 0, 0, 0, 0, 0, 2],\n",
    "    [1, 0, 1, 1, 1, 1, 1, 1, 1, 1, 1, 1, 1, 1, 1, 1, 1, 1, 1, 1],\n",
    "    [1, 0, 0, 0, 0, 0, 0, 0, 0, 0, 0, 0, 0, 0, 0, 0, 0, 0, 0, 1]\n",
    "]\n"
   ],
   "metadata": {
    "collapsed": false,
    "ExecuteTime": {
     "end_time": "2024-04-09T08:13:03.252503Z",
     "start_time": "2024-04-09T08:13:03.217947Z"
    }
   },
   "id": "267c84b2a7ac95c6",
   "execution_count": 74
  },
  {
   "cell_type": "code",
   "outputs": [
    {
     "name": "stdout",
     "output_type": "stream",
     "text": [
      "Test Case 1: Simple Path\n",
      "Path from start to exit: [(0, 0), (0, 1), (0, 2), (0, 3), (0, 4), (0, 5), (0, 6), (0, 7), (0, 8), (0, 9), (0, 10), (0, 11), (0, 12), (0, 13), (0, 14), (0, 15), (0, 16), (0, 17), (0, 18), (0, 19)]\n",
      "Steps from start to exit: 19\n"
     ]
    },
    {
     "data": {
      "text/plain": "<Figure size 500x500 with 1 Axes>",
      "image/png": "[encoded data removed]"
     },
     "metadata": {},
     "output_type": "display_data"
    },
    {
     "name": "stdout",
     "output_type": "stream",
     "text": [
      "Test Case 2: No Exit\n",
      "No path found.\n"
     ]
    },
    {
     "data": {
      "text/plain": "<Figure size 500x500 with 1 Axes>",
      "image/png": "[encoded data removed]"
     },
     "metadata": {},
     "output_type": "display_data"
    },
    {
     "name": "stdout",
     "output_type": "stream",
     "text": [
      "Test Case 3: Multiple Paths to Exit\n",
      "Path from start to exit: [(0, 0), (1, 0), (1, 1), (1, 2), (1, 3), (1, 4), (1, 5), (1, 6), (1, 7), (1, 8), (1, 9), (1, 10), (1, 11), (1, 12), (1, 13), (1, 14), (1, 15), (1, 16), (1, 17), (1, 18), (1, 19), (2, 19), (3, 19), (4, 19)]\n",
      "Steps from start to exit: 23\n"
     ]
    },
    {
     "data": {
      "text/plain": "<Figure size 500x500 with 1 Axes>",
      "image/png": "[encoded data removed]"
     },
     "metadata": {},
     "output_type": "display_data"
    }
   ],
   "source": [
    "def run_test(maze):\n",
    "    steps_matrix = create_filled_matrix_np(maze, 9999)\n",
    "    result = bfs_maze(maze, steps_matrix, 0, 0)\n",
    "    if result != -1:\n",
    "        path = trace_back_path(steps_matrix, result.i, result.j)\n",
    "        print(\"Path from start to exit:\", path)\n",
    "        print(\"Steps from start to exit:\", result.steps)\n",
    "    else:\n",
    "        print(\"No path found.\")\n",
    "    visualize_maze(maze, steps_matrix)\n",
    "\n",
    "# Execute tests\n",
    "print(\"Test Case 1: Simple Path\")\n",
    "run_test(maze_test1)\n",
    "\n",
    "print(\"Test Case 2: No Exit\")\n",
    "run_test(maze_test2)\n",
    "\n",
    "print(\"Test Case 3: Multiple Paths to Exit\")\n",
    "run_test(maze_test3)"
   ],
   "metadata": {
    "collapsed": false,
    "ExecuteTime": {
     "end_time": "2024-04-09T08:13:04.481070Z",
     "start_time": "2024-04-09T08:13:04.001020Z"
    }
   },
   "id": "9478e42af7ac39f9",
   "execution_count": 75
  },
  {
   "cell_type": "markdown",
   "source": [
    "From X to Y"
   ],
   "metadata": {
    "collapsed": false
   },
   "id": "538664317b393fdf"
  },
  {
   "cell_type": "code",
   "outputs": [
    {
     "name": "stdout",
     "output_type": "stream",
     "text": [
      "Path from start to exit: [(25, 'Start'), (23, 'b'), (21, 'b'), (19, 'b'), (17, 'b'), (15, 'b'), (13, 'b'), (11, 'b'), (9, 'b'), (7, 'b'), (28, 'a'), (26, 'b')]\n"
     ]
    }
   ],
   "source": [
    "class TNode:\n",
    "    def __init__(self, parent, value, prev_op):\n",
    "        self.parent = parent\n",
    "        self.value = value\n",
    "        self.prev_op = prev_op\n",
    "\n",
    "class QNode:\n",
    "    def __init__(self, value):\n",
    "        self.value = value\n",
    "        self.next = None\n",
    "\n",
    "class Queue:\n",
    "    def __init__(self):\n",
    "        self.front = None\n",
    "        self.rear = None\n",
    "\n",
    "    def is_empty(self):\n",
    "        return self.front is None\n",
    "\n",
    "    def enqueue(self, value):\n",
    "        new_node = QNode(value)\n",
    "        if self.rear is None:\n",
    "            self.front = self.rear = new_node\n",
    "            return\n",
    "        self.rear.next = new_node\n",
    "        self.rear = new_node\n",
    "\n",
    "    def dequeue(self):\n",
    "        if self.is_empty():\n",
    "            raise Exception(\"Trying to dequeue from an empty queue\")\n",
    "        temp = self.front\n",
    "        self.front = self.front.next\n",
    "        if self.front is None:\n",
    "            self.rear = None\n",
    "        return temp.value\n",
    "\n",
    "    def peek(self):\n",
    "        if self.is_empty():\n",
    "            raise Exception(\"Trying to peek from an empty queue\")\n",
    "        return self.front.value\n",
    "      \n",
    "class BitVector:\n",
    "    def __init__(self, size):\n",
    "        self.size = size\n",
    "        self.bits = [0] * ((size + 7) // 8)\n",
    "\n",
    "    def set(self, index):\n",
    "        byte_index = index // 8\n",
    "        bit_index = index % 8\n",
    "        self.bits[byte_index] |= (1 << bit_index)\n",
    "\n",
    "    def check(self, index):\n",
    "        byte_index = index // 8\n",
    "        bit_index = index % 8\n",
    "        return (self.bits[byte_index] & (1 << bit_index)) != 0\n",
    "\n",
    "def op_a(value, Y, m):\n",
    "    return min(value * m, Y * 2), 'a'\n",
    "\n",
    "def op_b(value):\n",
    "    return value - 2 , 'b'\n",
    "\n",
    "def op_c(value):\n",
    "    return value - 1 , 'c'\n",
    "\n",
    "\n",
    "def from_x_to_y(X, Y, m):\n",
    "    results = BitVector(100)\n",
    "\n",
    "    operations = [lambda x: op_a(x, Y, m), op_b, op_c]\n",
    "    \n",
    "    q = Queue()\n",
    "    \n",
    "    start = TNode(None, X, None)\n",
    "    \n",
    "    q.enqueue(start)\n",
    "\n",
    "    results.set(start.value)\n",
    "    \n",
    "    if start.value == Y:\n",
    "        return start\n",
    "    else:\n",
    "        while not q.is_empty():\n",
    "            cur = q.dequeue()\n",
    "            \n",
    "            for op in operations:\n",
    "                res, name = op(cur.value)\n",
    "                if res == Y:\n",
    "                    return TNode(cur, res, name)\n",
    "                if not results.check(res):\n",
    "                    results.set(res)\n",
    "                    q.enqueue(TNode(cur, res, name))\n",
    "    return -1\n",
    "\n",
    "\n",
    "\n",
    "def build_path(end_node):\n",
    "    path = []\n",
    "    current_node = end_node\n",
    "    while current_node is not None:\n",
    "        if current_node.prev_op is not None:\n",
    "            path.append((current_node.value, current_node.prev_op))\n",
    "        else:\n",
    "            path.append((current_node.value, 'Start'))\n",
    "        current_node = current_node.parent\n",
    "\n",
    "    path.reverse()\n",
    "    return path\n",
    "\n",
    "\n",
    "res = from_x_to_y(25, 26, 4)\n",
    "\n",
    "if res != -1:\n",
    "    full_path = build_path(res)\n",
    "    print(\"Path from start to exit:\", full_path)\n",
    "else:\n",
    "    print(\"No path found.\")"
   ],
   "metadata": {
    "collapsed": false,
    "ExecuteTime": {
     "end_time": "2024-04-13T13:10:18.054794Z",
     "start_time": "2024-04-13T13:10:18.031774Z"
    }
   },
   "id": "e2a2971927eafb69",
   "execution_count": 23
  },
  {
   "cell_type": "markdown",
   "source": [
    "SEND + MORE"
   ],
   "metadata": {
    "collapsed": false
   },
   "id": "6e36debd6c5a6a59"
  },
  {
   "cell_type": "code",
   "outputs": [
    {
     "data": {
      "text/plain": "'hello'"
     },
     "execution_count": 117,
     "metadata": {},
     "output_type": "execute_result"
    }
   ],
   "source": [
    "def reverseString(s):\n",
    "    \n",
    "    def helper(string):\n",
    "        cur_len = len(string)\n",
    "        if cur_len == 1:\n",
    "            return string\n",
    "        else:\n",
    "            first = string[0]\n",
    "            rest = string[1:]\n",
    "            return helper(rest) + first\n",
    "    \n",
    "    s = helper(s)    \n",
    "\n",
    "    \n",
    "    \n",
    "str = \"hello\"\n",
    "\n",
    "reverseString(str)\n",
    " \n",
    "str"
   ],
   "metadata": {
    "collapsed": false,
    "ExecuteTime": {
     "end_time": "2024-04-09T12:56:26.948042Z",
     "start_time": "2024-04-09T12:56:26.937683Z"
    }
   },
   "id": "b0289b1ecdbf376b",
   "execution_count": 117
  },
  {
   "cell_type": "code",
   "outputs": [
    {
     "name": "stdout",
     "output_type": "stream",
     "text": [
      "Solution Found:\n",
      "{'S': 9, 'E': 5, 'N': 6, 'D': 7, 'M': 1, 'O': 0, 'R': 8, 'Y': 2}\n",
      "9567 + 1085 = 10652\n"
     ]
    }
   ],
   "source": [
    "def check_full_validation(mapping):\n",
    "    send = int(\"\".join(str(mapping[c]) for c in \"SEND\"))\n",
    "    more = int(\"\".join(str(mapping[c]) for c in \"MORE\"))\n",
    "    money = int(\"\".join(str(mapping[c]) for c in \"MONEY\"))\n",
    "    return send + more == money\n",
    "\n",
    "def solve_puzzle(letters, first_letters, available_digits, current_index, mapping, keys, target_length):\n",
    "    if current_index == len(letters):\n",
    "        if check_full_validation(mapping):\n",
    "            return mapping\n",
    "        return None\n",
    "\n",
    "    for digit in available_digits:\n",
    "        current_letter = letters[current_index]\n",
    "        if digit == 0 and current_letter in first_letters:\n",
    "            continue\n",
    "        mapping[current_letter] = digit\n",
    "        new_available_digits = available_digits - {digit}\n",
    "        result = solve_puzzle(letters, first_letters, new_available_digits, current_index + 1, mapping, keys, target_length)\n",
    "        if result is not None:\n",
    "            return result\n",
    "        mapping[current_letter] = None \n",
    "\n",
    "    return None\n",
    "\n",
    "def cryptarithmetic_puzzle():\n",
    "    letters = \"SENDMORY\"\n",
    "    first_letters = {\"S\", \"M\"}\n",
    "    available_digits = set(range(10))\n",
    "    mapping = {letter: None for letter in letters}\n",
    "    keys = [\"SEND\", \"MORE\", \"MONEY\"]\n",
    "    target_length = len(keys[-1])\n",
    "\n",
    "    solution = solve_puzzle(letters, first_letters, available_digits, 0, mapping, keys, target_length)\n",
    "    if solution:\n",
    "        print(\"Solution Found:\")\n",
    "        print(solution)\n",
    "        send = \"\".join(str(solution[c]) for c in \"SEND\")\n",
    "        more = \"\".join(str(solution[c]) for c in \"MORE\")\n",
    "        money = \"\".join(str(solution[c]) for c in \"MONEY\")\n",
    "        print(f\"{send} + {more} = {money}\")\n",
    "    else:\n",
    "        print(\"No solution exists.\")\n",
    "\n",
    "cryptarithmetic_puzzle()\n",
    "\n"
   ],
   "metadata": {
    "collapsed": false,
    "ExecuteTime": {
     "end_time": "2024-04-12T18:36:18.492179Z",
     "start_time": "2024-04-12T18:36:14.360082Z"
    }
   },
   "id": "2dc71c1e827ca37e",
   "execution_count": 6
  },
  {
   "cell_type": "code",
   "outputs": [],
   "source": [],
   "metadata": {
    "collapsed": false
   },
   "id": "80ff5d1200845ce0"
  }
 ],
 "metadata": {
  "kernelspec": {
   "display_name": "Python 3",
   "language": "python",
   "name": "python3"
  },
  "language_info": {
   "codemirror_mode": {
    "name": "ipython",
    "version": 2
   },
   "file_extension": ".py",
   "mimetype": "text/x-python",
   "name": "python",
   "nbconvert_exporter": "python",
   "pygments_lexer": "ipython2",
   "version": "2.7.6"
  }
 },
 "nbformat": 4,
 "nbformat_minor": 5
}
