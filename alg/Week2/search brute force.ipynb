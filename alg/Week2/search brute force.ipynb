{
 "cells": [
  {
   "metadata": {},
   "cell_type": "markdown",
   "source": "### The Graph Class",
   "id": "ba751b0abf884e31"
  },
  {
   "cell_type": "code",
   "id": "d10e50f46b75faf3",
   "metadata": {
    "collapsed": true,
    "ExecuteTime": {
     "end_time": "2024-06-03T20:56:30.060921Z",
     "start_time": "2024-06-03T20:56:30.044521Z"
    }
   },
   "source": [
    "import random\n",
    "import networkx as nx\n",
    "from tqdm import tqdm\n",
    "\n",
    "class Graph:\n",
    "    def __init__(self, edges, num_vertices):\n",
    "        self.edges = edges\n",
    "        self.num_vertices = num_vertices\n",
    "\n",
    "    def is_valid_cover(self, cover):\n",
    "        for (u, v) in self.edges:\n",
    "            if not cover[u] and not cover[v]:\n",
    "                return False\n",
    "        return True"
   ],
   "outputs": [],
   "execution_count": null
  },
  {
   "metadata": {},
   "cell_type": "markdown",
   "source": [
    "- `__init__`: Initializes the graph with the given edges and number of vertices.\n",
    "- `is_valid_cover`: Checks if the given set of vertices cover is a valid cover for the graph."
   ],
   "id": "e62a4557166b7483"
  },
  {
   "metadata": {},
   "cell_type": "markdown",
   "source": [
    "### Validation Function:\n",
    "\n",
    "Validation function is designed with recursive approach to check every possible cover combination and checks if it is a valid cover for the graph with $k$ vertices.\n",
    " \n",
    "Also it uses logic to stop the recursion if all the possible covers wont get to $K$ (`sum(cover)` + (`n` - `i`) < `k`). \n",
    "\n",
    "And stop branch if the sum of the cover is greater then $k$, which allow algorithm to not perform computations that wont satisfy condition of the problem with sum definitely more then $k$."
   ],
   "id": "8aa4766912b55f92"
  },
  {
   "metadata": {},
   "cell_type": "code",
   "outputs": [],
   "execution_count": null,
   "source": [
    "\n",
    "def validate(graph, cover, n, i, k, progress_bar):\n",
    "    if i == n:\n",
    "        progress_bar.update(1)\n",
    "        return sum(cover)==k and graph.is_valid_cover(cover)\n",
    "    else:\n",
    "        if not (sum(cover) + (n - i) < k):\n",
    "            cover[i] = False\n",
    "            if validate(graph, cover, n, i + 1, k, progress_bar):\n",
    "                return True\n",
    "            \n",
    "            if not (sum(cover)>=k):\n",
    "                cover[i] = True\n",
    "                if validate(graph, cover, n, i + 1, k, progress_bar):\n",
    "                    return True\n",
    "    \n",
    "            cover[i] = False\n",
    "            progress_bar.update(1)\n",
    "            return False"
   ],
   "id": "392baf8860fad1f4"
  },
  {
   "metadata": {},
   "cell_type": "markdown",
   "source": [
    "validate: A recursive function to check all possible combinations of vertices in the cover.\n",
    "\n",
    "\n",
    "\n",
    "- Base Case:  If all vertices are considered (i == n), it updates the progress bar and checks if the current cover is valid and equals k.\n",
    "\n",
    "\n",
    "-  Otherwise, it checks if the current cover size plus remaining vertices is insufficient to reach k, stopping further recursion if true.\n",
    "\n",
    "\n",
    "- Option 1: It tries the option without including the current vertex in the cover.\n",
    "\n",
    "\n",
    "- Option 2: If that fails, it tries the option with including the current vertex in the cover.\n",
    "\n",
    "\n",
    "- Leave recursion: If neither option is successful, it updates the progress bar and returns False."
   ],
   "id": "fe5954bcaed6175e"
  },
  {
   "metadata": {},
   "cell_type": "markdown",
   "source": [
    "### Entry function\n",
    "\n",
    "`brute_force_vertex_cover`: Initializes the cover list with all False values (vertices not included in the cover) and starts the validation process.\n",
    "\n",
    "\n",
    "\n",
    "Uses tqdm library to display the progress of checking all possible combinations."
   ],
   "id": "1baede93debf2f99"
  },
  {
   "metadata": {
    "ExecuteTime": {
     "end_time": "2024-06-03T21:15:40.199854Z",
     "start_time": "2024-06-03T21:15:00.219611Z"
    }
   },
   "cell_type": "code",
   "source": [
    "def brute_force_vertex_cover(graph, k):\n",
    "    num_vertices = graph.num_vertices\n",
    "    cover = [False] * num_vertices\n",
    "    num_combinations = 2 ** num_vertices\n",
    "\n",
    "    with tqdm(total=num_combinations, desc=\"Processing Vertex Covers\") as progress_bar:\n",
    "        return validate(graph, cover, num_vertices, 0, k, progress_bar)\n",
    "\n",
    "num_vertices = 28\n",
    "edges = []\n",
    "while len(edges) < num_vertices * 1.2 or (random.random() < 0.50 + num_vertices * 0.005):\n",
    "    u, v = random.randint(0, num_vertices - 1), random.randint(0, num_vertices - 1)\n",
    "    if u != v and (u, v) not in edges and (v, u) not in edges:\n",
    "        edges.append((u, v))\n",
    "\n",
    "G = nx.Graph()\n",
    "G.add_edges_from(edges)\n",
    "\n",
    "graph = Graph(edges, num_vertices)\n",
    "k = 11\n",
    "\n",
    "result = brute_force_vertex_cover(graph, k)\n",
    "\n",
    "\n",
    "result\n"
   ],
   "id": "initial_id",
   "outputs": [
    {
     "name": "stderr",
     "output_type": "stream",
     "text": [
      "Processing Vertex Covers:  35%|███▌      | 94929509/268435456 [00:39<01:13, 2375172.78it/s]\n"
     ]
    },
    {
     "data": {
      "text/plain": [
       "False"
      ]
     },
     "execution_count": 69,
     "metadata": {},
     "output_type": "execute_result"
    }
   ],
   "execution_count": 69
  },
  {
   "metadata": {},
   "cell_type": "markdown",
   "source": "### Multiple runs to ensure the algorithm is correct and gives same answer for different inputs with same parameters.",
   "id": "497d697d3a67ad17"
  },
  {
   "metadata": {
    "ExecuteTime": {
     "end_time": "2024-06-03T20:58:20.483695Z",
     "start_time": "2024-06-03T20:57:52.698466Z"
    }
   },
   "cell_type": "code",
   "source": [
    "ans = True\n",
    "\n",
    "for i in range(10):\n",
    "    num_vertices = 25\n",
    "    edges = []\n",
    "    while len(edges) < num_vertices * 1.2 or (random.random() < 0.50 + num_vertices * 0.005):\n",
    "        u, v = random.randint(0, num_vertices - 1), random.randint(0, num_vertices - 1)\n",
    "        if u != v and (u, v) not in edges and (v, u) not in edges:\n",
    "            edges.append((u, v))\n",
    "    \n",
    "    G = nx.Graph()\n",
    "    G.add_edges_from(edges)\n",
    "    \n",
    "    graph = Graph(edges, num_vertices)\n",
    "    k = 11\n",
    "\n",
    "    ans = brute_force_vertex_cover(graph, k)\n",
    "    \n",
    "ans"
   ],
   "id": "979a743b865d354e",
   "outputs": [
    {
     "name": "stderr",
     "output_type": "stream",
     "text": [
      "Processing Vertex Covers:  58%|█████▊    | 19345115/33554432 [00:07<00:05, 2456189.03it/s]\n",
      "Processing Vertex Covers:   5%|▍         | 1544596/33554432 [00:00<00:13, 2407738.79it/s]\n",
      "Processing Vertex Covers:   3%|▎         | 984479/33554432 [00:00<00:14, 2292769.34it/s]\n",
      "Processing Vertex Covers:   8%|▊         | 2631585/33554432 [00:01<00:13, 2373678.15it/s]\n",
      "Processing Vertex Covers:   3%|▎         | 1012075/33554432 [00:00<00:14, 2301468.36it/s]\n",
      "Processing Vertex Covers:   1%|          | 246322/33554432 [00:00<00:16, 2046626.53it/s]\n",
      "Processing Vertex Covers:   5%|▌         | 1830684/33554432 [00:00<00:13, 2336787.45it/s]\n",
      "Processing Vertex Covers:  58%|█████▊    | 19345115/33554432 [00:07<00:05, 2456858.90it/s]\n",
      "Processing Vertex Covers:  58%|█████▊    | 19345115/33554432 [00:07<00:05, 2427595.84it/s]\n",
      "Processing Vertex Covers:   4%|▎         | 1206007/33554432 [00:00<00:14, 2293704.82it/s]\n"
     ]
    },
    {
     "data": {
      "text/plain": [
       "True"
      ]
     },
     "execution_count": 63,
     "metadata": {},
     "output_type": "execute_result"
    }
   ],
   "execution_count": 63
  },
  {
   "metadata": {},
   "cell_type": "markdown",
   "source": [
    "### Conclusion\n",
    "\n",
    "In this implementation, the algorithm uses a brute-force method to check all possible combinations of vertex covers. Despite the exponential complexity of the problem, the algorithm is designed to not only determine if a vertex cover of size `k` exists but also to output the actual result if it is possible. By employing early stopping techniques, the algorithm significantly reduces computation time, particularly in cases where it is not possible to find a valid vertex cover of the specified size, which might be clearly observed from progress bars."
   ],
   "id": "50ed55c2912b0ede"
  },
  {
   "metadata": {},
   "cell_type": "code",
   "outputs": [],
   "execution_count": null,
   "source": "",
   "id": "cd5a226723f01cb"
  }
 ],
 "metadata": {
  "kernelspec": {
   "display_name": "Python 3",
   "language": "python",
   "name": "python3"
  },
  "language_info": {
   "codemirror_mode": {
    "name": "ipython",
    "version": 2
   },
   "file_extension": ".py",
   "mimetype": "text/x-python",
   "name": "python",
   "nbconvert_exporter": "python",
   "pygments_lexer": "ipython2",
   "version": "2.7.6"
  }
 },
 "nbformat": 4,
 "nbformat_minor": 5
}
