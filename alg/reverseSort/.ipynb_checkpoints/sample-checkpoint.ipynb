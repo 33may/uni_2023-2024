{
 "cells": [
  {
   "cell_type": "code",
   "outputs": [],
   "source": [],
   "metadata": {
    "collapsed": false
   },
   "id": "initial_id",
   "execution_count": null
  },
  {
   "cell_type": "markdown",
   "source": [
    "Define Max function"
   ],
   "metadata": {
    "collapsed": false
   },
   "id": "13b8e051fdcff49e"
  },
  {
   "cell_type": "code",
   "outputs": [],
   "source": [
    "def max(S, i, j):\n",
    "    if S[i] >= S[j]:\n",
    "        return i\n",
    "    else:\n",
    "        return j"
   ],
   "metadata": {
    "collapsed": false
   },
   "id": "1d82e1cc2508387",
   "execution_count": null
  },
  {
   "cell_type": "markdown",
   "source": [
    "Define reverse"
   ],
   "metadata": {
    "collapsed": false
   },
   "id": "676761235952d161"
  },
  {
   "cell_type": "code",
   "outputs": [],
   "source": [
    "def reverse(S, i):\n",
    "    S[:i+1] = S[:i+1][::-1]\n",
    "    return S"
   ],
   "metadata": {
    "collapsed": false
   },
   "id": "39b6302ec86f5381",
   "execution_count": null
  },
  {
   "cell_type": "code",
   "outputs": [],
   "source": [
    "a = [1,2,3,4,5,6,7]\n",
    "\n",
    "b = reverse(a, 5)\n",
    "\n",
    "b"
   ],
   "metadata": {
    "collapsed": false
   },
   "id": "2f05474de313e32e"
  }
 ],
 "metadata": {
  "kernelspec": {
   "display_name": "Python 3",
   "language": "python",
   "name": "python3"
  },
  "language_info": {
   "codemirror_mode": {
    "name": "ipython",
    "version": 2
   },
   "file_extension": ".py",
   "mimetype": "text/x-python",
   "name": "python",
   "nbconvert_exporter": "python",
   "pygments_lexer": "ipython2",
   "version": "2.7.6"
  }
 },
 "nbformat": 4,
 "nbformat_minor": 5
}
