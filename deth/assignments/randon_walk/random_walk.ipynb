{
 "cells": [
  {
   "cell_type": "code",
   "id": "initial_id",
   "metadata": {
    "collapsed": true,
    "ExecuteTime": {
     "end_time": "2024-06-02T14:52:09.463811Z",
     "start_time": "2024-06-02T14:52:09.446056Z"
    }
   },
   "source": [
    "import random\n",
    "import matplotlib.pyplot as plt\n",
    "import seaborn as sns\n",
    "import numpy as np\n",
    "\n",
    "def random_walk(n):\n",
    "    x, y = 0, 0\n",
    "    positions = set()\n",
    "    positions.add((x, y))\n",
    "    for _ in range(n):\n",
    "        dx, dy = random.choice([(0, 1), (0, -1), (1, 0), (-1, 0)])\n",
    "        x += dx\n",
    "        y += dy\n",
    "        positions.add((x, y))\n",
    "    return positions\n",
    "\n",
    "def simulate_walks(number_of_walks, walk_length, grid_size):\n",
    "    visits = np.zeros((2 * grid_size + 1, 2 * grid_size + 1))\n",
    "    origin = grid_size  # Center of the grid\n",
    "    for _ in range(number_of_walks):\n",
    "        positions = random_walk(walk_length)\n",
    "        for (x, y) in positions:\n",
    "            visits[origin + x][origin + y] += 1\n",
    "\n",
    "    average_visits = visits / number_of_walks\n",
    "    return average_visits\n",
    "\n",
    "\n",
    "# Plot the heatmap of visit probabilities\n",
    "def plot_heatmap(visit_counts, walk_length, number_of_walks, grid_size):\n",
    "    plt.figure(figsize=(10, 8))\n",
    "    sns.heatmap(visit_counts, cmap='viridis', cbar=True,\n",
    "                xticklabels=range(-grid_size, grid_size + 1),\n",
    "                yticklabels=range(-grid_size, grid_size + 1))\n",
    "    plt.title(f\"Heatmap of Visit Probabilities for {number_of_walks} Random Walks (Length {walk_length})\")\n",
    "    plt.xlabel(\"X-coordinate\")\n",
    "    plt.ylabel(\"Y-coordinate\")\n",
    "    plt.show()\n",
    "\n"
   ],
   "execution_count": 73,
   "outputs": []
  },
  {
   "metadata": {},
   "cell_type": "markdown",
   "source": "## For each intersection in the grid, what is the probability that the walker visits it?",
   "id": "706dac597b9ef408"
  },
  {
   "metadata": {
    "ExecuteTime": {
     "end_time": "2024-06-02T14:52:14.714484Z",
     "start_time": "2024-06-02T14:52:14.116594Z"
    }
   },
   "cell_type": "code",
   "source": [
    "\n",
    "# Main code to perform the simulation and plotting\n",
    "number_of_walks = 10000\n",
    "walk_length = 30\n",
    "grid_size = 15  # This will create a 30x30 grid\n",
    "\n",
    "visits = simulate_walks(number_of_walks, walk_length, grid_size)\n",
    "plot_heatmap(visits, walk_length, number_of_walks, grid_size)"
   ],
   "id": "a700cd5620b3802c",
   "execution_count": 74,
   "outputs": []
  },
  {
   "metadata": {},
   "cell_type": "markdown",
   "source": "",
   "id": "d5ef209f0ad56738"
  },
  {
   "metadata": {
    "ExecuteTime": {
     "end_time": "2024-06-02T14:55:17.528475Z",
     "start_time": "2024-06-02T14:55:13.334207Z"
    }
   },
   "cell_type": "code",
   "source": [
    "def simulate_and_compare(number_of_walks_1, number_of_walks_2, walk_length, grid_size):\n",
    "    visits_1 = simulate_walks(number_of_walks_1, walk_length, grid_size)\n",
    "    visits_2 = simulate_walks(number_of_walks_2, walk_length, grid_size)\n",
    "\n",
    "    difference = visits_2 - visits_1\n",
    "\n",
    "    return visits_1, visits_2, difference\n",
    "\n",
    "walk_length = 30\n",
    "grid_size = 17\n",
    "number_of_walks_1 = 15000\n",
    "number_of_walks_2 = 100000\n",
    "\n",
    "visits_1, visits_2, difference = simulate_and_compare(number_of_walks_1, number_of_walks_2, walk_length, grid_size)\n",
    "\n",
    "# Plot heatmaps\n",
    "plt.figure(figsize=(10, 8))\n",
    "sns.heatmap(visits_1, cmap='viridis', cbar=True,\n",
    "            xticklabels=range(-grid_size, grid_size + 1),\n",
    "            yticklabels=range(-grid_size, grid_size + 1))\n",
    "plt.title(f\"Heatmap of Visit Probabilities for {number_of_walks_1} Random Walks (Length {walk_length})\")\n",
    "plt.xlabel(\"X-coordinate\")\n",
    "plt.ylabel(\"Y-coordinate\")\n",
    "plt.show()\n",
    "\n",
    "plt.figure(figsize=(10, 8))\n",
    "sns.heatmap(visits_2, cmap='viridis', cbar=True,\n",
    "            xticklabels=range(-grid_size, grid_size + 1),\n",
    "            yticklabels=range(-grid_size, grid_size + 1))\n",
    "plt.title(f\"Heatmap of Visit Probabilities for {number_of_walks_2} Random Walks (Length {walk_length})\")\n",
    "plt.xlabel(\"X-coordinate\")\n",
    "plt.ylabel(\"Y-coordinate\")\n",
    "plt.show()\n",
    "\n",
    "plt.figure(figsize=(10, 8))\n",
    "sns.heatmap(difference, cmap='coolwarm', cbar=True,\n",
    "            xticklabels=range(-grid_size, grid_size + 1),\n",
    "            yticklabels=range(-grid_size, grid_size + 1))\n",
    "plt.title(f\"Difference in Visit Probabilities between {number_of_walks_2} and {number_of_walks_1} Walks\")\n",
    "plt.xlabel(\"X-coordinate\")\n",
    "plt.ylabel(\"Y-coordinate\")\n",
    "plt.show()"
   ],
   "id": "cff8baf64fcac521",
   "execution_count": 79,
   "outputs": []
  },
  {
   "metadata": {},
   "cell_type": "markdown",
   "source": "The difference in visit probabilities between the two walks is very small $|\\epsilon| < 0.006$. So The run with 15000 walk is is very close to the run with 100000 walks. So 15000 is enough to get a good estimate of the visit probabilities.",
   "id": "91a0f1554495645"
  },
  {
   "metadata": {},
   "cell_type": "code",
   "execution_count": null,
   "source": "",
   "id": "68f1f9cfaf00de39",
   "outputs": []
  }
 ],
 "metadata": {
  "kernelspec": {
   "display_name": "Python 3",
   "language": "python",
   "name": "python3"
  },
  "language_info": {
   "codemirror_mode": {
    "name": "ipython",
    "version": 2
   },
   "file_extension": ".py",
   "mimetype": "text/x-python",
   "name": "python",
   "nbconvert_exporter": "python",
   "pygments_lexer": "ipython2",
   "version": "2.7.6"
  }
 },
 "nbformat": 4,
 "nbformat_minor": 5
}
