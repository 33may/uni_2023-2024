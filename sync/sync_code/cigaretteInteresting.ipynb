{
 "cells": [
  {
   "cell_type": "code",
   "execution_count": null,
   "id": "initial_id",
   "metadata": {
    "collapsed": true
   },
   "outputs": [],
   "source": [
    "from asyncio import Semaphore\n",
    "\n",
    "supplies = [Semaphore(0), Semaphore(0), Semaphore(0), Semaphore(0), Semaphore(0), Semaphore(0)]\n",
    "\n",
    "mutex = Semaphore(1)\n",
    "\n",
    "t = 0"
   ]
  },
  {
   "cell_type": "code",
   "outputs": [],
   "source": [
    "# Tobacco Supplier\n",
    "mutex.wait()\n",
    "t = t + 1\n",
    "supplies[t].release()\n",
    "mutex.signal()\n",
    "\n",
    "# Matches Supplier\n",
    "mutex.wait()\n",
    "t = t + 2\n",
    "supplies[t].release()\n",
    "mutex.signal()\n",
    "\n",
    "# Paper Supplier\n",
    "mutex.wait()\n",
    "t = t + 4\n",
    "supplies[t].release()\n",
    "mutex.signal()\n",
    "\n",
    "\n",
    "# Smoker with Tobacco\n",
    "supplies[6].wait()\n",
    "# smoke\n",
    "t = 0\n",
    "\n",
    "# Smoker with Matches\n",
    "supplies[5].wait()\n",
    "# smoke\n",
    "t = 0\n",
    "\n",
    "# Smoker with Paper\n",
    "supplies[3].wait()\n",
    "# smoke\n",
    "t = 0\n",
    "\n",
    "\n",
    "# Optional: if overflow is a problem\n",
    "\n",
    "# Overflow1\n",
    "supplies[1].wait()\n",
    "\n",
    "# Overflow3\n",
    "supplies[2].wait()\n",
    "\n",
    "# Overflow3\n",
    "supplies[4].wait()\n"
   ],
   "metadata": {
    "collapsed": false
   },
   "id": "81d0e806aebda048"
  }
 ],
 "metadata": {
  "kernelspec": {
   "display_name": "Python 3",
   "language": "python",
   "name": "python3"
  },
  "language_info": {
   "codemirror_mode": {
    "name": "ipython",
    "version": 2
   },
   "file_extension": ".py",
   "mimetype": "text/x-python",
   "name": "python",
   "nbconvert_exporter": "python",
   "pygments_lexer": "ipython2",
   "version": "2.7.6"
  }
 },
 "nbformat": 4,
 "nbformat_minor": 5
}
