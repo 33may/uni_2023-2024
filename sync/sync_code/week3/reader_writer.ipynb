{
 "cells": [
  {
   "cell_type": "code",
   "outputs": [],
   "source": [
    "priorReady = Semaphore(1)\n",
    "roomEmpty = Semaphore(1)\n",
    "readers = 0\n",
    "writers = 0\n",
    "mutexReader = Semaphore(1)\n",
    "mutexWriter = Semaphore(1)\n",
    "writerPrior = True"
   ],
   "metadata": {
    "collapsed": false
   },
   "id": "b2bee124d69e6e3e",
   "execution_count": null
  },
  {
   "cell_type": "code",
   "outputs": [],
   "source": [
    "# Reader\n",
    "\n",
    "if writerPrior:\n",
    "    priorReady.wait()\n",
    "    priorReady.signal()\n",
    "    mutexReader.wait()\n",
    "    readers += 1\n",
    "    if readers == 1:\n",
    "        roomEmpty.wait()\n",
    "    mutexReader.signal()\n",
    "else:\n",
    "    priorReady.wait()\n",
    "    \n",
    "# crit section\n",
    "\n",
    "if writerPrior:\n",
    "    mutexReader.wait()\n",
    "    readers -= 1\n",
    "    if readers == 0:\n",
    "        roomEmpty.signal()\n",
    "    mutexReader.signal()\n",
    "else:\n",
    "    priorReady.signal()\n",
    "    "
   ],
   "metadata": {
    "collapsed": false
   },
   "id": "4f2c10c7214c766d"
  },
  {
   "cell_type": "code",
   "outputs": [],
   "source": [
    "# Writer\n",
    "\n",
    "if not writerPrior:\n",
    "    priorReady.wait()\n",
    "    priorReady.signal()\n",
    "else:\n",
    "    priorReady.wait()\n",
    "\n",
    "roomEmpty.wait()\n",
    "# crit section\n",
    "roomEmpty.signal()\n",
    "\n",
    "if writerPrior:\n",
    "   priorReady.signal()\n",
    "    "
   ],
   "metadata": {
    "collapsed": false
   },
   "id": "d2b53647cbe2946a"
  }
 ],
 "metadata": {
  "kernelspec": {
   "display_name": "Python 3",
   "language": "python",
   "name": "python3"
  },
  "language_info": {
   "codemirror_mode": {
    "name": "ipython",
    "version": 2
   },
   "file_extension": ".py",
   "mimetype": "text/x-python",
   "name": "python",
   "nbconvert_exporter": "python",
   "pygments_lexer": "ipython2",
   "version": "2.7.6"
  }
 },
 "nbformat": 4,
 "nbformat_minor": 5
}
