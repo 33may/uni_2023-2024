{
 "cells": [
  {
   "cell_type": "code",
   "execution_count": 2,
   "id": "initial_id",
   "metadata": {
    "collapsed": true,
    "ExecuteTime": {
     "end_time": "2024-05-16T09:08:33.462384Z",
     "start_time": "2024-05-16T09:08:32.260431Z"
    }
   },
   "outputs": [],
   "source": [
    "from sympy import *\n",
    "from scipy.linalg import *\n",
    "import numpy as np"
   ]
  },
  {
   "cell_type": "markdown",
   "source": [
    "Task 4 (B)"
   ],
   "metadata": {
    "collapsed": false
   },
   "id": "b6ab71e2a5810901"
  },
  {
   "cell_type": "code",
   "outputs": [
    {
     "name": "stdout",
     "output_type": "stream",
     "text": [
      "x 314159265358979.3\n",
      "y 314159265358979.2\n",
      "a 70368744177664.0\n",
      "b 78539816339744.81\n",
      "c -0.10403732199645938\n"
     ]
    }
   ],
   "source": [
    "x = np.pi*1e14\n",
    "\n",
    "print(\"x\",x)\n",
    "\n",
    "y = x-0.1\n",
    "\n",
    "print(\"y\",y)\n",
    "\n",
    "a = x**2-y**2\n",
    "\n",
    "print(\"a\",a)\n",
    "\n",
    "b = (x+y)*(x-y)\n",
    "\n",
    "print(\"b\",b)\n",
    "\n",
    "c = (a-b)/b\n",
    "\n",
    "print(\"c\",c)"
   ],
   "metadata": {
    "collapsed": false,
    "ExecuteTime": {
     "end_time": "2024-05-09T07:50:58.716828Z",
     "start_time": "2024-05-09T07:50:58.712195Z"
    }
   },
   "id": "cff4c756f8e49ca8",
   "execution_count": 13
  },
  {
   "cell_type": "markdown",
   "source": [
    "Error in b is much higher then error in a."
   ],
   "metadata": {
    "collapsed": false
   },
   "id": "f02c8bdd53f25ae1"
  },
  {
   "cell_type": "markdown",
   "source": [
    "Error in b have formula:\n",
    "\n",
    "$$\n",
    "\\frac{x^2 \\cdot \\delta_1 + y^2 \\cdot \\delta_2}{x^2 - y^2}\n",
    "$$\n",
    "\n",
    "\n",
    "\n",
    "$ \\(x^{2} - y^{2}\\)$ approaches zero, while $ \\(x^2 \\cdot \\delta_1 + y^2 \\cdot \\delta_2\\)$ doesnt which can lead to significant error.\n",
    "\n"
   ],
   "metadata": {
    "collapsed": false
   },
   "id": "c1a1239e5e262432"
  },
  {
   "cell_type": "markdown",
   "source": [
    "Error in a have formula:\n",
    "$$\n",
    "\\frac{(x-y) \\cdot (x + y) \\cdot \\delta_1 + (x-y) \\cdot (x + y) \\cdot \\delta_2}{(x-y) \\cdot (x + y)}\n",
    "$$\n",
    "\n",
    "Here when $(x-y) \\cdot (x + y)$ approaches zero, $(x-y) \\cdot (x + y) \\cdot \\delta_1 + (x-y) \\cdot (x + y) \\cdot \\delta_2$ also approaches zero, which make relative error small."
   ],
   "metadata": {
    "collapsed": false
   },
   "id": "38df63bcf5ad4c64"
  },
  {
   "cell_type": "markdown",
   "source": [
    "Task 5 (B)"
   ],
   "metadata": {
    "collapsed": false
   },
   "id": "2de8c78204257500"
  },
  {
   "cell_type": "code",
   "outputs": [
    {
     "data": {
      "text/plain": "2.22044604925031e-16",
      "text/latex": "$\\displaystyle 2.22044604925031 \\cdot 10^{-16}$"
     },
     "execution_count": 21,
     "metadata": {},
     "output_type": "execute_result"
    }
   ],
   "source": [
    "x = 0.17\n",
    "\n",
    "res = sin(x)**2 + cos(x)**2 - 1\n",
    "\n",
    "res"
   ],
   "metadata": {
    "collapsed": false,
    "ExecuteTime": {
     "end_time": "2024-05-09T11:19:57.510505Z",
     "start_time": "2024-05-09T11:19:57.484398Z"
    }
   },
   "id": "6573bae146fe1d5f",
   "execution_count": 21
  },
  {
   "cell_type": "markdown",
   "source": [
    "Not equal to zero because of floating point error. It is equal to eps ≈ 2.2 · 10−16"
   ],
   "metadata": {
    "collapsed": false
   },
   "id": "a7de5576be965b96"
  },
  {
   "cell_type": "markdown",
   "source": [
    "Task 7"
   ],
   "metadata": {
    "collapsed": false
   },
   "id": "8a6857e07b65db7f"
  },
  {
   "cell_type": "code",
   "outputs": [
    {
     "name": "stdout",
     "output_type": "stream",
     "text": [
      "Test 1 False\n",
      "Test 2 True\n",
      "Test 3 9.332636185032189e-302\n",
      "Test 4 0.0\n",
      "Test 5 1.0715086071862673e+301\n",
      "2.220446049250313e-16\n"
     ]
    }
   ],
   "source": [
    "eps = np.finfo(float).eps\n",
    "\n",
    "print(\"Test 1\", 1 + eps == 1)\n",
    "\n",
    "print(\"Test 2\", 1+eps/2 == 1)\n",
    "\n",
    "print(\"Test 3\", 2**-1000)\n",
    "\n",
    "print(\"Test 4\", 2**-1100)\n",
    "\n",
    "print(\"Test 5\", 2.0 **1000)\n",
    "\n",
    "# print(\"Test 6\", 2**1100)\n",
    "\n",
    "print(eps)\n"
   ],
   "metadata": {
    "collapsed": false,
    "ExecuteTime": {
     "end_time": "2024-05-16T10:13:59.393346Z",
     "start_time": "2024-05-16T10:13:59.370815Z"
    }
   },
   "id": "3b9614687cb6f027",
   "execution_count": 46
  },
  {
   "cell_type": "code",
   "outputs": [
    {
     "name": "stdout",
     "output_type": "stream",
     "text": [
      "Test 1 True\n",
      "2.0\n",
      "2.220446049250313e-16\n",
      "False\n"
     ]
    }
   ],
   "source": [
    "print(\"Test 1\", float(2) - float(2) + float(eps) == float(2) - float(2))\n",
    "\n",
    "print(float(2))\n",
    "\n",
    "print(eps)\n",
    "\n",
    "print(eps == 0)"
   ],
   "metadata": {
    "collapsed": false,
    "ExecuteTime": {
     "end_time": "2024-05-16T10:10:26.268062Z",
     "start_time": "2024-05-16T10:10:26.262078Z"
    }
   },
   "id": "f0e734adc445d250",
   "execution_count": 45
  },
  {
   "cell_type": "code",
   "outputs": [],
   "source": [],
   "metadata": {
    "collapsed": false
   },
   "id": "ac33b2168e0b1a80"
  },
  {
   "cell_type": "code",
   "outputs": [
    {
     "name": "stdout",
     "output_type": "stream",
     "text": [
      "1.00000000000000022204\n",
      "2.00000000000000000000\n"
     ]
    }
   ],
   "source": [
    "a = (1.0 + eps)\n",
    "\n",
    "a_f = \"{:.20f}\".format(a)\n",
    "\n",
    "print(a_f)\n",
    "\n",
    "formatted_num = \"{:.20f}\".format(1.0 + a)\n",
    "print(formatted_num)"
   ],
   "metadata": {
    "collapsed": false,
    "ExecuteTime": {
     "end_time": "2024-05-16T10:57:54.504257Z",
     "start_time": "2024-05-16T10:57:54.494379Z"
    }
   },
   "id": "84d3e00a300ad932",
   "execution_count": 65
  },
  {
   "cell_type": "code",
   "outputs": [],
   "source": [],
   "metadata": {
    "collapsed": false
   },
   "id": "1649b776905e2b60"
  }
 ],
 "metadata": {
  "kernelspec": {
   "display_name": "Python 3",
   "language": "python",
   "name": "python3"
  },
  "language_info": {
   "codemirror_mode": {
    "name": "ipython",
    "version": 2
   },
   "file_extension": ".py",
   "mimetype": "text/x-python",
   "name": "python",
   "nbconvert_exporter": "python",
   "pygments_lexer": "ipython2",
   "version": "2.7.6"
  }
 },
 "nbformat": 4,
 "nbformat_minor": 5
}
