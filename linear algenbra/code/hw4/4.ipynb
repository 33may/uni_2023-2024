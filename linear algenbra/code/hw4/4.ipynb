{
 "cells": [
  {
   "cell_type": "code",
   "outputs": [],
   "source": [
    "from sympy import *\n",
    "from scipy.linalg import solve\n",
    "import numpy as np"
   ],
   "metadata": {
    "collapsed": false,
    "ExecuteTime": {
     "end_time": "2024-05-09T07:28:19.380836Z",
     "start_time": "2024-05-09T07:28:19.341557Z"
    }
   },
   "id": "f7a8c8a3a849dfbe",
   "execution_count": 20
  },
  {
   "cell_type": "markdown",
   "source": [
    "Task 7"
   ],
   "metadata": {
    "collapsed": false
   },
   "id": "3d0e7be22dfc447"
  },
  {
   "cell_type": "code",
   "outputs": [
    {
     "data": {
      "text/plain": "Matrix([\n[1, 0, 0, 122/5, -107/5],\n[0, 1, 0, -44/5,   14/5],\n[0, 0, 1,  -6/5,    6/5]])",
      "text/latex": "$\\displaystyle \\left[\\begin{matrix}1 & 0 & 0 & \\frac{122}{5} & - \\frac{107}{5}\\\\0 & 1 & 0 & - \\frac{44}{5} & \\frac{14}{5}\\\\0 & 0 & 1 & - \\frac{6}{5} & \\frac{6}{5}\\end{matrix}\\right]$"
     },
     "execution_count": 8,
     "metadata": {},
     "output_type": "execute_result"
    }
   ],
   "source": [
    "A = Matrix([[2,8,-8,-12,-30],[5,22,-8,-62,-55],[-3,-16,-7,76,11]])\n",
    "\n",
    "A.rref()[0]"
   ],
   "metadata": {
    "collapsed": false,
    "ExecuteTime": {
     "end_time": "2024-05-09T07:19:48.812453Z",
     "start_time": "2024-05-09T07:19:48.783873Z"
    }
   },
   "id": "3ad3a81f94db348a",
   "execution_count": 8
  },
  {
   "cell_type": "markdown",
   "source": [
    "Task 8 (A)"
   ],
   "metadata": {
    "collapsed": false
   },
   "id": "4649fb71b7545402"
  },
  {
   "cell_type": "code",
   "outputs": [
    {
     "data": {
      "text/plain": "array([1., 3.])"
     },
     "execution_count": 24,
     "metadata": {},
     "output_type": "execute_result"
    }
   ],
   "source": [
    "A = np.array([\n",
    "    [3, -8],\n",
    "    [1, -3]\n",
    "])\n",
    "\n",
    "B = np.array([-21, -8])\n",
    "\n",
    "solution = solve(A, B)\n",
    "solution"
   ],
   "metadata": {
    "collapsed": false,
    "ExecuteTime": {
     "end_time": "2024-05-09T07:29:04.041778Z",
     "start_time": "2024-05-09T07:29:04.032241Z"
    }
   },
   "id": "88e4d3762a3522dd",
   "execution_count": 24
  },
  {
   "cell_type": "code",
   "outputs": [
    {
     "data": {
      "text/plain": "Matrix([\n[1],\n[3]])",
      "text/latex": "$\\displaystyle \\left[\\begin{matrix}1\\\\3\\end{matrix}\\right]$"
     },
     "execution_count": 25,
     "metadata": {},
     "output_type": "execute_result"
    }
   ],
   "source": [
    "A = Matrix([\n",
    "    [3, -8],\n",
    "    [1, -3]\n",
    "])\n",
    "B = Matrix([-21, -8])\n",
    "\n",
    "solution = A.LUsolve(B)\n",
    "\n",
    "solution\n"
   ],
   "metadata": {
    "collapsed": false,
    "ExecuteTime": {
     "end_time": "2024-05-09T07:31:08.241089Z",
     "start_time": "2024-05-09T07:31:08.016707Z"
    }
   },
   "id": "7676ca96d55819c8",
   "execution_count": 25
  },
  {
   "cell_type": "markdown",
   "source": [
    "Task 8 (B)"
   ],
   "metadata": {
    "collapsed": false
   },
   "id": "e32bbfb8978ff7f0"
  },
  {
   "cell_type": "code",
   "outputs": [
    {
     "name": "stdout",
     "output_type": "stream",
     "text": [
      "No solution, det = 0\n"
     ]
    }
   ],
   "source": [
    "A = np.array([\n",
    "    [3, 3, -3],\n",
    "    [-1, 1, -7],\n",
    "    [3,2,1]\n",
    "])\n",
    "B = np.array([-6, -4, -3])\n",
    "\n",
    "try:\n",
    "    solution = solve(A, B)\n",
    "    print(solution)\n",
    "except:\n",
    "    print(\"No solution, det = 0\")"
   ],
   "metadata": {
    "collapsed": false,
    "ExecuteTime": {
     "end_time": "2024-05-09T07:34:12.827668Z",
     "start_time": "2024-05-09T07:34:12.807211Z"
    }
   },
   "id": "9ea3fff13ca1e8b2",
   "execution_count": 29
  },
  {
   "cell_type": "code",
   "outputs": [
    {
     "name": "stdout",
     "output_type": "stream",
     "text": [
      "No solution, det = 0\n"
     ]
    }
   ],
   "source": [
    "A = Matrix([\n",
    "    [3, 3, -3],\n",
    "    [-1, 1, -7],\n",
    "    [3,2,1]\n",
    "])\n",
    "B = Matrix([-6, -4, -3])\n",
    "\n",
    "try:\n",
    "    solution = A.LUsolve(B)\n",
    "    print(solution)\n",
    "except:\n",
    "    print(\"No solution, det = 0\")"
   ],
   "metadata": {
    "collapsed": false,
    "ExecuteTime": {
     "end_time": "2024-05-09T07:33:42.800094Z",
     "start_time": "2024-05-09T07:33:42.768513Z"
    }
   },
   "id": "8524cca841bfe32f",
   "execution_count": 28
  },
  {
   "cell_type": "code",
   "outputs": [],
   "source": [],
   "metadata": {
    "collapsed": false
   },
   "id": "eb8eb379431a7b59"
  }
 ],
 "metadata": {
  "kernelspec": {
   "display_name": "Python 3",
   "language": "python",
   "name": "python3"
  },
  "language_info": {
   "codemirror_mode": {
    "name": "ipython",
    "version": 2
   },
   "file_extension": ".py",
   "mimetype": "text/x-python",
   "name": "python",
   "nbconvert_exporter": "python",
   "pygments_lexer": "ipython2",
   "version": "2.7.6"
  }
 },
 "nbformat": 4,
 "nbformat_minor": 5
}
