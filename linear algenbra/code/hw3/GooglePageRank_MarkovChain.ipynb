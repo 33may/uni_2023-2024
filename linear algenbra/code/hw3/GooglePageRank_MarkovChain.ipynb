{
 "cells": [
  {
   "cell_type": "code",
   "execution_count": 1,
   "id": "initial_id",
   "metadata": {
    "collapsed": true,
    "ExecuteTime": {
     "end_time": "2024-05-01T16:46:48.340498Z",
     "start_time": "2024-05-01T16:46:48.222982Z"
    }
   },
   "outputs": [],
   "source": [
    "import numpy as np"
   ]
  },
  {
   "cell_type": "code",
   "outputs": [],
   "source": [
    "def normalize(G):\n",
    "    column_sums = G.sum(axis=0)\n",
    "\n",
    "    n = G.shape[0]\n",
    "    \n",
    "    G_normalized = np.zeros_like(G, dtype=float)\n",
    "    \n",
    "    for i, sum_val in enumerate(column_sums):\n",
    "        if sum_val == 0:\n",
    "            G_normalized[:, i] = 1 / n\n",
    "        else:\n",
    "            G_normalized[:, i] = G[:, i] / sum_val\n",
    "    \n",
    "    return G_normalized \n",
    "        "
   ],
   "metadata": {
    "collapsed": false,
    "ExecuteTime": {
     "end_time": "2024-05-01T17:28:15.989596Z",
     "start_time": "2024-05-01T17:28:15.978735Z"
    }
   },
   "id": "b0bde0825bf393de",
   "execution_count": 8
  },
  {
   "cell_type": "markdown",
   "source": [
    "Task5"
   ],
   "metadata": {
    "collapsed": false
   },
   "id": "c702c2ccec940119"
  },
  {
   "cell_type": "code",
   "outputs": [
    {
     "name": "stdout",
     "output_type": "stream",
     "text": [
      "G matrix [[0 1 0 1]\n",
      " [1 0 1 0]\n",
      " [0 1 0 0]\n",
      " [0 0 1 0]]\n",
      "G-hat matrix [[0.  0.5 0.  1. ]\n",
      " [1.  0.  0.5 0. ]\n",
      " [0.  0.5 0.  0. ]\n",
      " [0.  0.  0.5 0. ]]\n",
      "A matrix [[0.0375 0.4625 0.0375 0.8875]\n",
      " [0.8875 0.0375 0.4625 0.0375]\n",
      " [0.0375 0.4625 0.0375 0.0375]\n",
      " [0.0375 0.0375 0.4625 0.0375]]\n"
     ]
    },
    {
     "data": {
      "text/plain": "array([[0.30174696],\n       [0.37824246],\n       [0.19825304],\n       [0.12175754]])"
     },
     "execution_count": 35,
     "metadata": {},
     "output_type": "execute_result"
    }
   ],
   "source": [
    "G = np.array([[0,1,0,1]\n",
    "             ,[1,0,1,0]\n",
    "             ,[0,1,0,0]\n",
    "             ,[0,0,1,0]])\n",
    "\n",
    "\n",
    "print(\"G matrix\",G)\n",
    "\n",
    "\n",
    "G_hat = normalize(G)\n",
    "\n",
    "print(\"G-hat matrix\", G_hat)\n",
    "\n",
    "A = 0.85 * G_hat + 0.15 * 1/G_hat.shape[0] * np.ones_like(G_hat)\n",
    "\n",
    "print(\"A matrix\", A)\n",
    "\n",
    "eigenvalues, eigenvectors = np.linalg.eig(A)\n",
    "\n",
    "eigenvector = eigenvectors[:, np.isclose(eigenvalues, 1)]\n",
    "\n",
    "res = np.real(eigenvector / eigenvector.sum())\n",
    "\n",
    "# eigenvectors\n",
    "\n",
    "# eigenvalues\n",
    "\n",
    "res"
   ],
   "metadata": {
    "collapsed": false,
    "ExecuteTime": {
     "end_time": "2024-05-01T18:03:12.834609Z",
     "start_time": "2024-05-01T18:03:12.820415Z"
    }
   },
   "id": "8b89de6ffd3648d",
   "execution_count": 35
  },
  {
   "cell_type": "markdown",
   "source": [
    "So site 2 is the most important"
   ],
   "metadata": {
    "collapsed": false
   },
   "id": "c10dc1f1eca708ef"
  },
  {
   "cell_type": "markdown",
   "source": [
    "Task 6"
   ],
   "metadata": {
    "collapsed": false
   },
   "id": "4d5d530fffdd3f8d"
  },
  {
   "cell_type": "markdown",
   "source": [
    "I expect site 4 to be the most important because all sites links to it, then site 3, then site 2 and 1."
   ],
   "metadata": {
    "collapsed": false
   },
   "id": "b2f62825aa99890"
  },
  {
   "cell_type": "code",
   "outputs": [
    {
     "name": "stdout",
     "output_type": "stream",
     "text": [
      "G matrix [[0 0 0 0]\n",
      " [1 0 0 0]\n",
      " [1 1 0 0]\n",
      " [1 1 1 0]]\n",
      "G-hat matrix [[0.         0.         0.         0.25      ]\n",
      " [0.33333333 0.         0.         0.25      ]\n",
      " [0.33333333 0.5        0.         0.25      ]\n",
      " [0.33333333 0.5        1.         0.25      ]]\n",
      "A matrix [[0.0375     0.0375     0.0375     0.25      ]\n",
      " [0.32083333 0.0375     0.0375     0.25      ]\n",
      " [0.32083333 0.4625     0.0375     0.25      ]\n",
      " [0.32083333 0.4625     0.8875     0.25      ]]\n"
     ]
    },
    {
     "data": {
      "text/plain": "array([[0.13341746],\n       [0.17121907],\n       [0.24398718],\n       [0.45137628]])"
     },
     "execution_count": 37,
     "metadata": {},
     "output_type": "execute_result"
    }
   ],
   "source": [
    "G = np.array(\n",
    "                 [[0,0,0,0]\n",
    "                 ,[1,0,0,0]\n",
    "                 ,[1,1,0,0]\n",
    "                 ,[1,1,1,0]])\n",
    "\n",
    "\n",
    "print(\"G matrix\",G)\n",
    "\n",
    "\n",
    "G_hat = normalize(G)\n",
    "\n",
    "print(\"G-hat matrix\", G_hat)\n",
    "\n",
    "A = 0.85 * G_hat + 0.15 * 1/G_hat.shape[0] * np.ones_like(G_hat)\n",
    "\n",
    "print(\"A matrix\", A)\n",
    "\n",
    "eigenvalues, eigenvectors = np.linalg.eig(A)\n",
    "\n",
    "eigenvector = eigenvectors[:, np.isclose(eigenvalues, 1)]\n",
    "\n",
    "res = np.real(eigenvector / eigenvector.sum())\n",
    "\n",
    "# eigenvectors\n",
    "\n",
    "# eigenvalues\n",
    "\n",
    "res"
   ],
   "metadata": {
    "collapsed": false,
    "ExecuteTime": {
     "end_time": "2024-05-01T18:06:05.963124Z",
     "start_time": "2024-05-01T18:06:05.937222Z"
    }
   },
   "id": "cb402ec7a7db5124",
   "execution_count": 37
  },
  {
   "cell_type": "markdown",
   "source": [
    "Task 7 (a)\n"
   ],
   "metadata": {
    "collapsed": false
   },
   "id": "3c36ce679e64e92f"
  },
  {
   "cell_type": "code",
   "outputs": [
    {
     "name": "stdout",
     "output_type": "stream",
     "text": [
      "G^3 matrix [[0 3 0 1]\n",
      " [2 0 3 0]\n",
      " [0 2 0 1]\n",
      " [1 0 1 0]]\n",
      "path from site 3 to 2 in 3 steps = 3\n"
     ]
    }
   ],
   "source": [
    "G = np.array([[0,1,0,1]\n",
    "                 ,[1,0,1,0]\n",
    "                 ,[0,1,0,0]\n",
    "                 ,[0,0,1,0]])\n",
    "\n",
    "\n",
    "G_3 = G @ G @ G\n",
    "\n",
    "print(\"G^3 matrix\", G_3)\n",
    "\n",
    "print(\"path from site 3 to 2 in 3 steps =\", G_3[1,2])"
   ],
   "metadata": {
    "collapsed": false,
    "ExecuteTime": {
     "end_time": "2024-05-01T18:11:54.561756Z",
     "start_time": "2024-05-01T18:11:54.557427Z"
    }
   },
   "id": "b5c0970beae17904",
   "execution_count": 41
  },
  {
   "cell_type": "markdown",
   "source": [
    "Task 7 (b)"
   ],
   "metadata": {
    "collapsed": false
   },
   "id": "8928d8e0e7759932"
  },
  {
   "cell_type": "code",
   "outputs": [
    {
     "name": "stdout",
     "output_type": "stream",
     "text": [
      "G in power 1 [[0 0 0 0]\n",
      " [1 0 0 0]\n",
      " [1 1 0 0]\n",
      " [1 1 1 0]]\n",
      "G in power 2 [[0 0 0 0]\n",
      " [0 0 0 0]\n",
      " [1 0 0 0]\n",
      " [2 1 0 0]]\n",
      "G in power 3 [[0 0 0 0]\n",
      " [0 0 0 0]\n",
      " [0 0 0 0]\n",
      " [1 0 0 0]]\n",
      "path from site 1 to 4 in less then 3 steps = 4\n"
     ]
    }
   ],
   "source": [
    "G = np.array(\n",
    "    [[0,0,0,0]\n",
    "        ,[1,0,0,0]\n",
    "        ,[1,1,0,0]\n",
    "        ,[1,1,1,0]])\n",
    "\n",
    "res = 0\n",
    "\n",
    "g = G.copy()\n",
    "\n",
    "for i in range(3):\n",
    "    res += G[3,0]\n",
    "    print(f\"G in power {i+1}\",G)\n",
    "    G = G @ g\n",
    "\n",
    "\n",
    "print(\"path from site 1 to 4 in less then 3 steps =\", res)"
   ],
   "metadata": {
    "collapsed": false,
    "ExecuteTime": {
     "end_time": "2024-05-01T19:01:23.513715Z",
     "start_time": "2024-05-01T19:01:23.500713Z"
    }
   },
   "id": "bdd56472b2896274",
   "execution_count": 65
  },
  {
   "cell_type": "markdown",
   "source": [
    "Task 10 (b)"
   ],
   "metadata": {
    "collapsed": false
   },
   "id": "4877b8ccf0b15b10"
  },
  {
   "cell_type": "code",
   "outputs": [
    {
     "name": "stdout",
     "output_type": "stream",
     "text": [
      "G matrix [[1.   0.45 0.   0.   0.  ]\n",
      " [0.   0.   0.45 0.   0.  ]\n",
      " [0.   0.55 0.   0.45 0.  ]\n",
      " [0.   0.   0.55 0.   0.  ]\n",
      " [0.   0.   0.   0.55 1.  ]]\n"
     ]
    },
    {
     "data": {
      "text/plain": "array([[1., 0.],\n       [0., 0.],\n       [0., 0.],\n       [0., 0.],\n       [0., 1.]])"
     },
     "execution_count": 63,
     "metadata": {},
     "output_type": "execute_result"
    }
   ],
   "source": [
    "p = 0.55\n",
    "\n",
    "q = 1-p\n",
    "\n",
    "G = np.array(\n",
    "     [[1,q,0,0,0]\n",
    "     ,[0,0,q,0,0]\n",
    "     ,[0,p,0,q,0]\n",
    "     ,[0,0,p,0,0]\n",
    "     ,[0,0,0,p,1]])\n",
    "\n",
    "\n",
    "print(\"G matrix\",G)\n",
    "\n",
    "\n",
    "eigenvalues, eigenvectors = np.linalg.eig(G)\n",
    "\n",
    "eigenvector = eigenvectors[:, np.isclose(eigenvalues, 1)]\n",
    "\n",
    "res = np.real(eigenvector / eigenvector.sum())\n",
    "\n",
    "# eigenvectors\n",
    "\n",
    "# eigenvalues\n",
    "\n",
    "eigenvector\n",
    "\n",
    "# res"
   ],
   "metadata": {
    "collapsed": false,
    "ExecuteTime": {
     "end_time": "2024-05-01T18:55:02.845072Z",
     "start_time": "2024-05-01T18:55:02.827037Z"
    }
   },
   "id": "79c6a636ddeed160",
   "execution_count": 63
  },
  {
   "cell_type": "markdown",
   "source": [
    "There are 2 eigenvectors with eigenvalue equal two one, which coresponds two equilibrium states. This means Perron–Frobenius theorem is not satisfied so we cnt use eigenvector approach to fing probability distribution."
   ],
   "metadata": {
    "collapsed": false
   },
   "id": "2cd7f1c5c3007642"
  },
  {
   "cell_type": "code",
   "outputs": [
    {
     "name": "stdout",
     "output_type": "stream",
     "text": [
      "G matrix [[1.   0.49 0.   0.   0.  ]\n",
      " [0.   0.   0.49 0.   0.  ]\n",
      " [0.   0.51 0.   0.49 0.  ]\n",
      " [0.   0.   0.51 0.   0.  ]\n",
      " [0.   0.   0.   0.51 1.  ]]\n",
      "G10 matrix [[1.         0.72716924 0.46503772 0.22786848 0.        ]\n",
      " [0.         0.         0.0152819  0.         0.        ]\n",
      " [0.         0.01590565 0.         0.0152819  0.        ]\n",
      " [0.         0.         0.01590565 0.         0.        ]\n",
      " [0.         0.25692511 0.50377473 0.75684962 1.        ]]\n"
     ]
    },
    {
     "data": {
      "text/plain": "array([0.46503772, 0.0152819 , 0.        , 0.01590565, 0.50377473])"
     },
     "execution_count": 70,
     "metadata": {},
     "output_type": "execute_result"
    }
   ],
   "source": [
    "p = 0.51\n",
    "\n",
    "q = 1-p\n",
    "\n",
    "initial_state = np.array([0,0,1,0,0])\n",
    "\n",
    "G = np.array(\n",
    "    [[1,q,0,0,0]\n",
    "        ,[0,0,q,0,0]\n",
    "        ,[0,p,0,q,0]\n",
    "        ,[0,0,p,0,0]\n",
    "        ,[0,0,0,p,1]])\n",
    "\n",
    "\n",
    "g = G.copy()\n",
    "\n",
    "print(\"G matrix\",G)\n",
    "\n",
    "\n",
    "for i in range(10):\n",
    "    G = G @ g\n",
    "\n",
    "print(\"G10 matrix\",G)\n",
    "\n",
    "res = G @ initial_state\n",
    "\n",
    "res"
   ],
   "metadata": {
    "collapsed": false,
    "ExecuteTime": {
     "end_time": "2024-05-01T19:08:36.552529Z",
     "start_time": "2024-05-01T19:08:36.541192Z"
    }
   },
   "id": "d1dd99a59f625896",
   "execution_count": 70
  },
  {
   "cell_type": "code",
   "outputs": [],
   "source": [],
   "metadata": {
    "collapsed": false
   },
   "id": "ae6ac3cc254c3b86"
  }
 ],
 "metadata": {
  "kernelspec": {
   "display_name": "Python 3",
   "language": "python",
   "name": "python3"
  },
  "language_info": {
   "codemirror_mode": {
    "name": "ipython",
    "version": 2
   },
   "file_extension": ".py",
   "mimetype": "text/x-python",
   "name": "python",
   "nbconvert_exporter": "python",
   "pygments_lexer": "ipython2",
   "version": "2.7.6"
  }
 },
 "nbformat": 4,
 "nbformat_minor": 5
}
