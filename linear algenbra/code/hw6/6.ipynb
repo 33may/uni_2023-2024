{
 "cells": [
  {
   "cell_type": "code",
   "id": "initial_id",
   "metadata": {
    "collapsed": true,
    "ExecuteTime": {
     "end_time": "2024-05-27T08:57:02.815396Z",
     "start_time": "2024-05-27T08:57:02.360241Z"
    }
   },
   "source": [
    "import numpy as np\n",
    "from sympy import *"
   ],
   "outputs": [],
   "execution_count": 7
  },
  {
   "metadata": {
    "ExecuteTime": {
     "end_time": "2024-05-27T08:56:09.456401Z",
     "start_time": "2024-05-27T08:56:09.449370Z"
    }
   },
   "cell_type": "code",
   "source": "A = np.array([[6,5,-4],[-2,-1,2],[4,4,0]])",
   "id": "99dfe1554a71407f",
   "outputs": [],
   "execution_count": 2
  },
  {
   "metadata": {
    "ExecuteTime": {
     "end_time": "2024-05-27T08:57:04.326406Z",
     "start_time": "2024-05-27T08:57:04.323792Z"
    }
   },
   "cell_type": "code",
   "source": "A_m = Matrix(A)",
   "id": "c67290c95a3f64a0",
   "outputs": [],
   "execution_count": 8
  },
  {
   "metadata": {
    "ExecuteTime": {
     "end_time": "2024-05-27T08:57:07.917074Z",
     "start_time": "2024-05-27T08:57:07.912012Z"
    }
   },
   "cell_type": "code",
   "source": "A_m",
   "id": "c34199cf36f873de",
   "outputs": [
    {
     "data": {
      "text/plain": [
       "Matrix([\n",
       "[ 6,  5, -4],\n",
       "[-2, -1,  2],\n",
       "[ 4,  4,  0]])"
      ],
      "text/latex": "$\\displaystyle \\left[\\begin{matrix}6 & 5 & -4\\\\-2 & -1 & 2\\\\4 & 4 & 0\\end{matrix}\\right]$"
     },
     "execution_count": 9,
     "metadata": {},
     "output_type": "execute_result"
    }
   ],
   "execution_count": 9
  },
  {
   "metadata": {
    "ExecuteTime": {
     "end_time": "2024-05-27T08:57:26.249471Z",
     "start_time": "2024-05-27T08:57:26.235217Z"
    }
   },
   "cell_type": "code",
   "source": "A_m.inv()",
   "id": "dd408fd6170e876b",
   "outputs": [
    {
     "data": {
      "text/plain": [
       "Matrix([\n",
       "[  -1,   -2,  3/4],\n",
       "[   1,    2, -1/2],\n",
       "[-1/2, -1/2,  1/2]])"
      ],
      "text/latex": "$\\displaystyle \\left[\\begin{matrix}-1 & -2 & \\frac{3}{4}\\\\1 & 2 & - \\frac{1}{2}\\\\- \\frac{1}{2} & - \\frac{1}{2} & \\frac{1}{2}\\end{matrix}\\right]$"
     },
     "execution_count": 10,
     "metadata": {},
     "output_type": "execute_result"
    }
   ],
   "execution_count": 10
  },
  {
   "metadata": {
    "ExecuteTime": {
     "end_time": "2024-05-27T08:58:45.639157Z",
     "start_time": "2024-05-27T08:58:45.625760Z"
    }
   },
   "cell_type": "code",
   "source": "A_inv = np.linalg.inv(A)",
   "id": "98e19ebcb96bc0d1",
   "outputs": [],
   "execution_count": 13
  },
  {
   "metadata": {
    "ExecuteTime": {
     "end_time": "2024-05-27T08:58:47.768290Z",
     "start_time": "2024-05-27T08:58:47.763064Z"
    }
   },
   "cell_type": "code",
   "source": "A_inv",
   "id": "b69587b6481ad8c8",
   "outputs": [
    {
     "data": {
      "text/plain": [
       "array([[-1.  , -2.  ,  0.75],\n",
       "       [ 1.  ,  2.  , -0.5 ],\n",
       "       [-0.5 , -0.5 ,  0.5 ]])"
      ]
     },
     "execution_count": 14,
     "metadata": {},
     "output_type": "execute_result"
    }
   ],
   "execution_count": 14
  },
  {
   "metadata": {
    "ExecuteTime": {
     "end_time": "2024-05-27T08:59:05.198817Z",
     "start_time": "2024-05-27T08:59:05.193299Z"
    }
   },
   "cell_type": "code",
   "source": [
    "A_inv_m = Matrix(A_inv)\n",
    "A_inv_m"
   ],
   "id": "53fbd756b9c3b982",
   "outputs": [
    {
     "data": {
      "text/plain": [
       "Matrix([\n",
       "[-1.0, -2.0, 0.75],\n",
       "[ 1.0,  2.0, -0.5],\n",
       "[-0.5, -0.5,  0.5]])"
      ],
      "text/latex": "$\\displaystyle \\left[\\begin{matrix}-1.0 & -2.0 & 0.75\\\\1.0 & 2.0 & -0.5\\\\-0.5 & -0.5 & 0.5\\end{matrix}\\right]$"
     },
     "execution_count": 16,
     "metadata": {},
     "output_type": "execute_result"
    }
   ],
   "execution_count": 16
  },
  {
   "metadata": {},
   "cell_type": "code",
   "outputs": [],
   "execution_count": null,
   "source": "",
   "id": "5d78774e107071c0"
  }
 ],
 "metadata": {
  "kernelspec": {
   "display_name": "Python 3",
   "language": "python",
   "name": "python3"
  },
  "language_info": {
   "codemirror_mode": {
    "name": "ipython",
    "version": 2
   },
   "file_extension": ".py",
   "mimetype": "text/x-python",
   "name": "python",
   "nbconvert_exporter": "python",
   "pygments_lexer": "ipython2",
   "version": "2.7.6"
  }
 },
 "nbformat": 4,
 "nbformat_minor": 5
}
