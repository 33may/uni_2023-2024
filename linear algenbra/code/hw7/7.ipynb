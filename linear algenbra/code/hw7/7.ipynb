{
 "cells": [
  {
   "cell_type": "code",
   "id": "initial_id",
   "metadata": {
    "collapsed": true,
    "ExecuteTime": {
     "end_time": "2024-05-27T09:00:02.487160Z",
     "start_time": "2024-05-27T09:00:02.098210Z"
    }
   },
   "source": [
    "import numpy as np\n",
    "from sympy import *"
   ],
   "outputs": [],
   "execution_count": 1
  },
  {
   "metadata": {
    "ExecuteTime": {
     "end_time": "2024-05-27T09:01:26.946996Z",
     "start_time": "2024-05-27T09:01:26.939088Z"
    }
   },
   "cell_type": "code",
   "source": [
    "A = np.array([[1,1,2,2,0],[1,0,2,0,2],[1,1,2,2,0],[1,0,2,2,0],[1,0,2,0,2]])\n",
    "\n",
    "A_m = Matrix(A)\n",
    "\n",
    "A_m"
   ],
   "id": "2fa09b5409030c4",
   "outputs": [
    {
     "data": {
      "text/plain": [
       "Matrix([\n",
       "[1, 1, 2, 2, 0],\n",
       "[1, 0, 2, 0, 2],\n",
       "[1, 1, 2, 2, 0],\n",
       "[1, 0, 2, 2, 0],\n",
       "[1, 0, 2, 0, 2]])"
      ],
      "text/latex": "$\\displaystyle \\left[\\begin{matrix}1 & 1 & 2 & 2 & 0\\\\1 & 0 & 2 & 0 & 2\\\\1 & 1 & 2 & 2 & 0\\\\1 & 0 & 2 & 2 & 0\\\\1 & 0 & 2 & 0 & 2\\end{matrix}\\right]$"
     },
     "execution_count": 3,
     "metadata": {},
     "output_type": "execute_result"
    }
   ],
   "execution_count": 3
  },
  {
   "metadata": {
    "ExecuteTime": {
     "end_time": "2024-05-27T09:01:54.092134Z",
     "start_time": "2024-05-27T09:01:54.078069Z"
    }
   },
   "cell_type": "code",
   "source": [
    "det = A_m.det()\n",
    "\n",
    "det"
   ],
   "id": "6c360924ea25edb2",
   "outputs": [
    {
     "data": {
      "text/plain": [
       "0"
      ],
      "text/latex": "$\\displaystyle 0$"
     },
     "execution_count": 4,
     "metadata": {},
     "output_type": "execute_result"
    }
   ],
   "execution_count": 4
  },
  {
   "metadata": {
    "ExecuteTime": {
     "end_time": "2024-05-27T09:02:32.519685Z",
     "start_time": "2024-05-27T09:02:32.510026Z"
    }
   },
   "cell_type": "code",
   "source": [
    "det2 = np.linalg.det(A)\n",
    "\n",
    "det2"
   ],
   "id": "be2e961aa6eac09d",
   "outputs": [
    {
     "data": {
      "text/plain": [
       "0.0"
      ]
     },
     "execution_count": 5,
     "metadata": {},
     "output_type": "execute_result"
    }
   ],
   "execution_count": 5
  },
  {
   "metadata": {},
   "cell_type": "code",
   "outputs": [],
   "execution_count": null,
   "source": "",
   "id": "ca3e54e059aaf80"
  }
 ],
 "metadata": {
  "kernelspec": {
   "display_name": "Python 3",
   "language": "python",
   "name": "python3"
  },
  "language_info": {
   "codemirror_mode": {
    "name": "ipython",
    "version": 2
   },
   "file_extension": ".py",
   "mimetype": "text/x-python",
   "name": "python",
   "nbconvert_exporter": "python",
   "pygments_lexer": "ipython2",
   "version": "2.7.6"
  }
 },
 "nbformat": 4,
 "nbformat_minor": 5
}
