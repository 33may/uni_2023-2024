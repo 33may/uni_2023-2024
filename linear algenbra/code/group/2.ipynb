{
 "cells": [
  {
   "cell_type": "code",
   "execution_count": null,
   "id": "initial_id",
   "metadata": {
    "collapsed": true
   },
   "outputs": [],
   "source": [
    "import numpy as np"
   ]
  },
  {
   "cell_type": "code",
   "outputs": [],
   "source": [
    "movies = [\n",
    "    \"The Shawshank Redemption\",\n",
    "    \"The Godfather\",\n",
    "    \"The Hunger Games\",\n",
    "    \"Pulp Fiction\",\n",
    "    \"Transformers: Revenge of the Fallen\",\n",
    "    \"Frozen\",\n",
    "    \"Batman v Superman: Dawn of Justice\",\n",
    "    \"Cats (2019)\"\n",
    "]\n",
    "\n",
    "users = [\"Bart\", \"Anton\", \"Daniel\", \"Bob\", \"Lucas\"]\n",
    "\n",
    "def get_movie_index(movie_name):\n",
    "    return movies.index(movie_name)\n",
    "\n",
    "def get_movie_name(movie_index):\n",
    "    return movies[movie_index]\n",
    "\n",
    "def get_user_index(user):\n",
    "    return users.index(user)\n",
    "\n",
    "def get_user_name(user_index):\n",
    "    return users[user_index]\n",
    "\n",
    "def softmax(x):\n",
    "    e_x = np.exp(x - np.max(x))\n",
    "    return e_x / e_x.sum()\n",
    "\n",
    "def cosine_similarity(vec1, vec2):\n",
    "    dot_product = np.dot(vec1, vec2)\n",
    "    norm_a = np.linalg.norm(vec1)\n",
    "    norm_b = np.linalg.norm(vec2)\n",
    "    return dot_product / (norm_a * norm_b)\n",
    "\n",
    "def max_n_indices(vec, n):\n",
    "    return np.argsort(vec)[-n:]\n",
    "\n",
    "def max_n_values(vec, n):\n",
    "    return np.sort(vec)[-n:]\n",
    "\n",
    "# Input data\n",
    "ratings = np.array([\n",
    "    [2, -1, 2, -2, 2],\n",
    "    [1, -1, 2, 0, 2],\n",
    "    [1, np.nan, 1, -2, 1],\n",
    "    [1, -2, 1, -1, 1],\n",
    "    [-1, np.nan, 0, -2, -1],\n",
    "    [0, np.nan, 0, -1, -1],\n",
    "    [-2, 2, -1, 1, 0],\n",
    "    [-2, np.nan, -2, -1, -2]\n",
    "], dtype=float)\n",
    "\n",
    "# Assuming 0s where ratings are 'N/A'\n",
    "ratings[np.isnan(ratings)] = 0"
   ],
   "metadata": {
    "collapsed": false,
    "ExecuteTime": {
     "end_time": "2024-05-01T17:15:53.894803Z",
     "start_time": "2024-05-01T17:15:53.873891Z"
    }
   },
   "id": "5e63d8ccbb2783",
   "execution_count": 53
  },
  {
   "cell_type": "code",
   "outputs": [
    {
     "data": {
      "text/plain": "array([[ 2., -1.,  2., -2.,  2.],\n       [ 1., -1.,  2.,  0.,  2.],\n       [ 1.,  0.,  1., -2.,  1.],\n       [ 1., -2.,  1., -1.,  1.],\n       [-1.,  0.,  0., -2., -1.],\n       [ 0.,  0.,  0., -1., -1.],\n       [-2.,  2., -1.,  1.,  0.],\n       [-2.,  0., -2., -1., -2.]])"
     },
     "execution_count": 43,
     "metadata": {},
     "output_type": "execute_result"
    }
   ],
   "source": [
    "ratings"
   ],
   "metadata": {
    "collapsed": false,
    "ExecuteTime": {
     "end_time": "2024-05-01T17:10:39.581160Z",
     "start_time": "2024-05-01T17:10:39.574595Z"
    }
   },
   "id": "c91cfaea6709d6ab",
   "execution_count": 43
  },
  {
   "cell_type": "code",
   "outputs": [],
   "source": [
    "target_user = 1 # Index of the target user\n",
    "\n",
    "target_movie = 2  # Index of the target movie\n",
    "\n",
    "N = 2  # Number of similar users to consider\n",
    "\n",
    "# Preparing the target vector and the modified ratings matrix\n",
    "target_vector = np.delete(ratings[:, target_user], target_movie)\n",
    "modified_ratings = np.delete(ratings, target_movie, axis=0)"
   ],
   "metadata": {
    "collapsed": false,
    "ExecuteTime": {
     "end_time": "2024-05-01T17:10:39.763694Z",
     "start_time": "2024-05-01T17:10:39.760474Z"
    }
   },
   "id": "637d31a0ce6b5464",
   "execution_count": 44
  },
  {
   "cell_type": "code",
   "outputs": [
    {
     "data": {
      "text/plain": "array([-1., -1., -2.,  0.,  0.,  2.,  0.])"
     },
     "execution_count": 45,
     "metadata": {},
     "output_type": "execute_result"
    }
   ],
   "source": [
    "target_vector"
   ],
   "metadata": {
    "collapsed": false,
    "ExecuteTime": {
     "end_time": "2024-05-01T17:10:39.940112Z",
     "start_time": "2024-05-01T17:10:39.918388Z"
    }
   },
   "id": "e5ae1d22e5fec70d",
   "execution_count": 45
  },
  {
   "cell_type": "code",
   "outputs": [
    {
     "data": {
      "text/plain": "array([[ 2., -1.,  2., -2.,  2.],\n       [ 1., -1.,  2.,  0.,  2.],\n       [ 1., -2.,  1., -1.,  1.],\n       [-1.,  0.,  0., -2., -1.],\n       [ 0.,  0.,  0., -1., -1.],\n       [-2.,  2., -1.,  1.,  0.],\n       [-2.,  0., -2., -1., -2.]])"
     },
     "execution_count": 46,
     "metadata": {},
     "output_type": "execute_result"
    }
   ],
   "source": [
    "modified_ratings"
   ],
   "metadata": {
    "collapsed": false,
    "ExecuteTime": {
     "end_time": "2024-05-01T17:10:40.238177Z",
     "start_time": "2024-05-01T17:10:40.231265Z"
    }
   },
   "id": "f7639d16d4133af9",
   "execution_count": 46
  },
  {
   "cell_type": "code",
   "outputs": [],
   "source": [
    "# Compute cosine similarity between the target user and all others\n",
    "similarities = np.array([cosine_similarity(target_vector, modified_ratings[:, i]) for i in range(modified_ratings.shape[1]) if i != target_user])\n",
    "similarities = np.insert(similarities, target_user, -999)  # Setting the target user's similarity to self as invalid\n",
    "\n",
    "\n",
    "prob_similarities = softmax(similarities)"
   ],
   "metadata": {
    "collapsed": false,
    "ExecuteTime": {
     "end_time": "2024-05-01T17:10:40.351695Z",
     "start_time": "2024-05-01T17:10:40.342529Z"
    }
   },
   "id": "6a49d70626446929",
   "execution_count": 47
  },
  {
   "cell_type": "code",
   "outputs": [
    {
     "data": {
      "text/plain": "array([-7.34846923e-01, -9.99000000e+02, -6.76123404e-01,  5.47722558e-01,\n       -4.89897949e-01])"
     },
     "execution_count": 48,
     "metadata": {},
     "output_type": "execute_result"
    }
   ],
   "source": [
    "similarities"
   ],
   "metadata": {
    "collapsed": false,
    "ExecuteTime": {
     "end_time": "2024-05-01T17:10:40.825191Z",
     "start_time": "2024-05-01T17:10:40.820085Z"
    }
   },
   "id": "f73f5f4158392fba",
   "execution_count": 48
  },
  {
   "cell_type": "code",
   "outputs": [
    {
     "data": {
      "text/plain": "array([0.14401064, 0.        , 0.15272069, 0.51928698, 0.18398168])"
     },
     "execution_count": 49,
     "metadata": {},
     "output_type": "execute_result"
    }
   ],
   "source": [
    "prob_similarities"
   ],
   "metadata": {
    "collapsed": false,
    "ExecuteTime": {
     "end_time": "2024-05-01T17:10:41.229330Z",
     "start_time": "2024-05-01T17:10:41.217907Z"
    }
   },
   "id": "40289e6d5b687aa8",
   "execution_count": 49
  },
  {
   "cell_type": "code",
   "outputs": [
    {
     "name": "stdout",
     "output_type": "stream",
     "text": [
      "Predicted rating for user Anton for movie The Hunger Games is: -1.22\n"
     ]
    }
   ],
   "source": [
    "top_n_indices = max_n_indices(prob_similarities, N)\n",
    "top_n_similarities = prob_similarities[top_n_indices]\n",
    "top_n_ratings = ratings[target_movie, top_n_indices]\n",
    "\n",
    "predicted_rating = np.dot(top_n_similarities, top_n_ratings) / np.sum(top_n_similarities) if np.sum(top_n_similarities) != 0 else 0\n",
    "\n",
    "print(f\"Predicted rating for user {get_user_name(target_user)} for movie {get_movie_name(target_movie)} is: {predicted_rating:.2f}\")"
   ],
   "metadata": {
    "collapsed": false,
    "ExecuteTime": {
     "end_time": "2024-05-01T17:10:41.693340Z",
     "start_time": "2024-05-01T17:10:41.687498Z"
    }
   },
   "id": "959f3ab0283f517d",
   "execution_count": 50
  },
  {
   "cell_type": "markdown",
   "source": [
    "Above, step by step execution, now define a function to compute the predicted rating for a given user and movie."
   ],
   "metadata": {
    "collapsed": false
   },
   "id": "398eed2b6fbe5565"
  },
  {
   "cell_type": "code",
   "outputs": [],
   "source": [
    "def predict_rating(target_user, target_movie, N):\n",
    "    target_vector = np.delete(ratings[:, target_user], target_movie)\n",
    "    modified_ratings = np.delete(ratings, target_movie, axis=0)\n",
    "\n",
    "    similarities = np.array([cosine_similarity(target_vector, modified_ratings[:, i]) for i in range(modified_ratings.shape[1]) if i != target_user])\n",
    "    similarities = np.insert(similarities, target_user, -999)  # Setting the target user's similarity to self as invalid\n",
    "\n",
    "\n",
    "    prob_similarities = softmax(similarities)\n",
    "\n",
    "    top_n_indices = max_n_indices(prob_similarities, N)\n",
    "    top_n_similarities = prob_similarities[top_n_indices]\n",
    "    top_n_ratings = ratings[target_movie, top_n_indices]\n",
    "    \n",
    "    predicted_rating = np.dot(top_n_similarities, top_n_ratings) / np.sum(top_n_similarities) if np.sum(top_n_similarities) != 0 else 0\n",
    "    \n",
    "    print(f\"Predicted rating for user {get_user_name(target_user)} for movie {get_movie_name(target_movie)} is: {predicted_rating:.2f}\")"
   ],
   "metadata": {
    "collapsed": false,
    "ExecuteTime": {
     "end_time": "2024-05-01T17:16:54.137403Z",
     "start_time": "2024-05-01T17:16:54.126489Z"
    }
   },
   "id": "7e5e3aab593a71fc",
   "execution_count": 57
  },
  {
   "cell_type": "code",
   "outputs": [
    {
     "name": "stdout",
     "output_type": "stream",
     "text": [
      "Predicted rating for user Anton for movie Cats (2019) is: -1.26\n"
     ]
    }
   ],
   "source": [
    "predict_rating(1,7,2)"
   ],
   "metadata": {
    "collapsed": false,
    "ExecuteTime": {
     "end_time": "2024-05-01T17:17:34.670437Z",
     "start_time": "2024-05-01T17:17:34.649642Z"
    }
   },
   "id": "9e76cc224d94ebec",
   "execution_count": 60
  },
  {
   "cell_type": "code",
   "outputs": [],
   "source": [],
   "metadata": {
    "collapsed": false
   },
   "id": "bb19216879444c93"
  }
 ],
 "metadata": {
  "kernelspec": {
   "display_name": "Python 3",
   "language": "python",
   "name": "python3"
  },
  "language_info": {
   "codemirror_mode": {
    "name": "ipython",
    "version": 2
   },
   "file_extension": ".py",
   "mimetype": "text/x-python",
   "name": "python",
   "nbconvert_exporter": "python",
   "pygments_lexer": "ipython2",
   "version": "2.7.6"
  }
 },
 "nbformat": 4,
 "nbformat_minor": 5
}
