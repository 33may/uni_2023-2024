{
 "cells": [
  {
   "cell_type": "code",
   "id": "initial_id",
   "metadata": {
    "collapsed": true,
    "ExecuteTime": {
     "end_time": "2024-06-15T21:21:51.205791Z",
     "start_time": "2024-06-15T21:21:51.202739Z"
    }
   },
   "source": [
    "import numpy as np"
   ],
   "outputs": [],
   "execution_count": 2
  },
  {
   "cell_type": "code",
   "source": [
    "movies = [\n",
    "    \"The Shawshank Redemption\",\n",
    "    \"The Godfather\",\n",
    "    \"The Hunger Games\",\n",
    "    \"Pulp Fiction\",\n",
    "    \"Transformers: Revenge of the Fallen\",\n",
    "    \"Frozen\",\n",
    "    \"Batman v Superman: Dawn of Justice\",\n",
    "    \"Cats (2019)\"\n",
    "]\n",
    "\n",
    "users = [\"Bart\", \"Anton\", \"Daniel\", \"Bob\", \"Lucas\"]\n",
    "\n",
    "def get_movie_index(movie_name):\n",
    "    return movies.index(movie_name)\n",
    "\n",
    "def get_movie_name(movie_index):\n",
    "    return movies[movie_index]\n",
    "\n",
    "def get_user_index(user):\n",
    "    return users.index(user)\n",
    "\n",
    "def get_user_name(user_index):\n",
    "    return users[user_index]\n",
    "\n",
    "def softmax(x):\n",
    "    e_x = np.exp(x - np.max(x))\n",
    "    return e_x / e_x.sum()\n",
    "\n",
    "def cosine_similarity(vec1, vec2):\n",
    "    dot_product = np.dot(vec1, vec2)\n",
    "    norm_a = np.linalg.norm(vec1)\n",
    "    norm_b = np.linalg.norm(vec2)\n",
    "    return dot_product / (norm_a * norm_b)\n",
    "\n",
    "def max_n_indices(vec, n):\n",
    "    return np.argsort(vec)[-n:]\n",
    "\n",
    "def max_n_values(vec, n):\n",
    "    return np.sort(vec)[-n:]\n",
    "\n",
    "ratings = np.array([\n",
    "    [2, -1, 2, -2, 2],\n",
    "    [1, -1, 2, 0, 2],\n",
    "    [1, np.nan, 1, -2, 1],\n",
    "    [1, -2, 1, -1, 1],\n",
    "    [-1, np.nan, 0, -2, -1],\n",
    "    [0, np.nan, 0, -1, -1],\n",
    "    [-2, 2, -1, 1, 0],\n",
    "    [-2, np.nan, -2, -1, -2]\n",
    "], dtype=float)\n",
    "\n",
    "ratings[np.isnan(ratings)] = 0"
   ],
   "metadata": {
    "collapsed": false,
    "ExecuteTime": {
     "end_time": "2024-06-15T21:21:51.256972Z",
     "start_time": "2024-06-15T21:21:51.251368Z"
    }
   },
   "id": "5e63d8ccbb2783",
   "outputs": [],
   "execution_count": 3
  },
  {
   "cell_type": "code",
   "source": [
    "ratings"
   ],
   "metadata": {
    "collapsed": false,
    "ExecuteTime": {
     "end_time": "2024-06-15T21:21:51.263562Z",
     "start_time": "2024-06-15T21:21:51.258864Z"
    }
   },
   "id": "c91cfaea6709d6ab",
   "outputs": [
    {
     "data": {
      "text/plain": [
       "array([[ 2., -1.,  2., -2.,  2.],\n",
       "       [ 1., -1.,  2.,  0.,  2.],\n",
       "       [ 1.,  0.,  1., -2.,  1.],\n",
       "       [ 1., -2.,  1., -1.,  1.],\n",
       "       [-1.,  0.,  0., -2., -1.],\n",
       "       [ 0.,  0.,  0., -1., -1.],\n",
       "       [-2.,  2., -1.,  1.,  0.],\n",
       "       [-2.,  0., -2., -1., -2.]])"
      ]
     },
     "execution_count": 4,
     "metadata": {},
     "output_type": "execute_result"
    }
   ],
   "execution_count": 4
  },
  {
   "cell_type": "code",
   "source": [
    "target_user = 1 # Index of the target user\n",
    "\n",
    "target_movie = 2  # Index of the target movie\n",
    "\n",
    "N = 2  # Number of similar users to consider\n",
    "\n",
    "# Preparing the target vector and the modified ratings matrix\n",
    "target_vector = np.delete(ratings[:, target_user], target_movie)\n",
    "modified_ratings = np.delete(ratings, target_movie, axis=0)"
   ],
   "metadata": {
    "collapsed": false,
    "ExecuteTime": {
     "end_time": "2024-06-15T21:21:51.268382Z",
     "start_time": "2024-06-15T21:21:51.266463Z"
    }
   },
   "id": "637d31a0ce6b5464",
   "outputs": [],
   "execution_count": 5
  },
  {
   "cell_type": "code",
   "source": [
    "target_vector"
   ],
   "metadata": {
    "collapsed": false,
    "ExecuteTime": {
     "end_time": "2024-06-15T21:21:51.277848Z",
     "start_time": "2024-06-15T21:21:51.274809Z"
    }
   },
   "id": "e5ae1d22e5fec70d",
   "outputs": [
    {
     "data": {
      "text/plain": [
       "array([-1., -1., -2.,  0.,  0.,  2.,  0.])"
      ]
     },
     "execution_count": 6,
     "metadata": {},
     "output_type": "execute_result"
    }
   ],
   "execution_count": 6
  },
  {
   "cell_type": "code",
   "source": [
    "modified_ratings"
   ],
   "metadata": {
    "collapsed": false,
    "ExecuteTime": {
     "end_time": "2024-06-15T21:21:51.306536Z",
     "start_time": "2024-06-15T21:21:51.303195Z"
    }
   },
   "id": "f7639d16d4133af9",
   "outputs": [
    {
     "data": {
      "text/plain": [
       "array([[ 2., -1.,  2., -2.,  2.],\n",
       "       [ 1., -1.,  2.,  0.,  2.],\n",
       "       [ 1., -2.,  1., -1.,  1.],\n",
       "       [-1.,  0.,  0., -2., -1.],\n",
       "       [ 0.,  0.,  0., -1., -1.],\n",
       "       [-2.,  2., -1.,  1.,  0.],\n",
       "       [-2.,  0., -2., -1., -2.]])"
      ]
     },
     "execution_count": 7,
     "metadata": {},
     "output_type": "execute_result"
    }
   ],
   "execution_count": 7
  },
  {
   "cell_type": "code",
   "source": [
    "# Compute cosine similarity between the target user and all others\n",
    "similarities = np.array([cosine_similarity(target_vector, modified_ratings[:, i]) for i in range(modified_ratings.shape[1]) if i != target_user])\n",
    "similarities = np.insert(similarities, target_user, -999)  # Setting the target user's similarity to self as invalid\n",
    "\n",
    "\n",
    "prob_similarities = softmax(similarities)"
   ],
   "metadata": {
    "collapsed": false,
    "ExecuteTime": {
     "end_time": "2024-06-15T21:21:51.310879Z",
     "start_time": "2024-06-15T21:21:51.308275Z"
    }
   },
   "id": "6a49d70626446929",
   "outputs": [],
   "execution_count": 8
  },
  {
   "cell_type": "code",
   "source": [
    "similarities"
   ],
   "metadata": {
    "collapsed": false,
    "ExecuteTime": {
     "end_time": "2024-06-15T21:21:51.321206Z",
     "start_time": "2024-06-15T21:21:51.318523Z"
    }
   },
   "id": "f73f5f4158392fba",
   "outputs": [
    {
     "data": {
      "text/plain": [
       "array([-7.34846923e-01, -9.99000000e+02, -6.76123404e-01,  5.47722558e-01,\n",
       "       -4.89897949e-01])"
      ]
     },
     "execution_count": 9,
     "metadata": {},
     "output_type": "execute_result"
    }
   ],
   "execution_count": 9
  },
  {
   "cell_type": "code",
   "source": [
    "prob_similarities"
   ],
   "metadata": {
    "collapsed": false,
    "ExecuteTime": {
     "end_time": "2024-06-15T21:21:51.335164Z",
     "start_time": "2024-06-15T21:21:51.332304Z"
    }
   },
   "id": "40289e6d5b687aa8",
   "outputs": [
    {
     "data": {
      "text/plain": [
       "array([0.14401064, 0.        , 0.15272069, 0.51928698, 0.18398168])"
      ]
     },
     "execution_count": 10,
     "metadata": {},
     "output_type": "execute_result"
    }
   ],
   "execution_count": 10
  },
  {
   "cell_type": "code",
   "source": [
    "top_n_indices = max_n_indices(prob_similarities, N)\n",
    "top_n_similarities = prob_similarities[top_n_indices]\n",
    "top_n_ratings = ratings[target_movie, top_n_indices]\n",
    "\n",
    "predicted_rating = np.dot(top_n_similarities, top_n_ratings) / np.sum(top_n_similarities) if np.sum(top_n_similarities) != 0 else 0\n",
    "\n",
    "print(f\"Predicted rating for user {get_user_name(target_user)} for movie {get_movie_name(target_movie)} is: {predicted_rating:.2f}\")"
   ],
   "metadata": {
    "collapsed": false,
    "ExecuteTime": {
     "end_time": "2024-06-15T21:21:51.363903Z",
     "start_time": "2024-06-15T21:21:51.361447Z"
    }
   },
   "id": "959f3ab0283f517d",
   "outputs": [
    {
     "name": "stdout",
     "output_type": "stream",
     "text": [
      "Predicted rating for user Anton for movie The Hunger Games is: -1.22\n"
     ]
    }
   ],
   "execution_count": 11
  },
  {
   "cell_type": "markdown",
   "source": [
    "Above, step by step execution, now define a function to compute the predicted rating for a given user and movie."
   ],
   "metadata": {
    "collapsed": false
   },
   "id": "398eed2b6fbe5565"
  },
  {
   "cell_type": "code",
   "source": [
    "def predict_rating(target_user, target_movie, N):\n",
    "    target_vector = np.delete(ratings[:, target_user], target_movie)\n",
    "    modified_ratings = np.delete(ratings, target_movie, axis=0)\n",
    "\n",
    "    similarities = np.array([cosine_similarity(target_vector, modified_ratings[:, i]) for i in range(modified_ratings.shape[1]) if i != target_user])\n",
    "    similarities = np.insert(similarities, target_user, -999)  # Setting the target user's similarity to self as invalid\n",
    "\n",
    "\n",
    "    prob_similarities = softmax(similarities)\n",
    "\n",
    "    top_n_indices = max_n_indices(prob_similarities, N)\n",
    "    top_n_similarities = prob_similarities[top_n_indices]\n",
    "    top_n_ratings = ratings[target_movie, top_n_indices]\n",
    "    \n",
    "    predicted_rating = np.dot(top_n_similarities, top_n_ratings) / np.sum(top_n_similarities) if np.sum(top_n_similarities) != 0 else 0\n",
    "    \n",
    "    print(f\"Predicted rating for user {get_user_name(target_user)} for movie {get_movie_name(target_movie)} is: {predicted_rating:.2f}\")"
   ],
   "metadata": {
    "collapsed": false,
    "ExecuteTime": {
     "end_time": "2024-06-15T21:21:51.376005Z",
     "start_time": "2024-06-15T21:21:51.372972Z"
    }
   },
   "id": "7e5e3aab593a71fc",
   "outputs": [],
   "execution_count": 12
  },
  {
   "cell_type": "code",
   "source": "predict_rating(1,6,2)",
   "metadata": {
    "collapsed": false,
    "ExecuteTime": {
     "end_time": "2024-06-15T21:23:49.800061Z",
     "start_time": "2024-06-15T21:23:49.791515Z"
    }
   },
   "id": "9e76cc224d94ebec",
   "outputs": [
    {
     "name": "stdout",
     "output_type": "stream",
     "text": [
      "Predicted rating for user Anton for movie Batman v Superman: Dawn of Justice is: 0.20\n"
     ]
    }
   ],
   "execution_count": 15
  },
  {
   "cell_type": "code",
   "source": [],
   "metadata": {
    "collapsed": false,
    "ExecuteTime": {
     "end_time": "2024-06-15T21:21:51.387987Z",
     "start_time": "2024-06-15T21:21:51.386148Z"
    }
   },
   "id": "bb19216879444c93",
   "outputs": [],
   "execution_count": 13
  }
 ],
 "metadata": {
  "kernelspec": {
   "display_name": "Python 3",
   "language": "python",
   "name": "python3"
  },
  "language_info": {
   "codemirror_mode": {
    "name": "ipython",
    "version": 2
   },
   "file_extension": ".py",
   "mimetype": "text/x-python",
   "name": "python",
   "nbconvert_exporter": "python",
   "pygments_lexer": "ipython2",
   "version": "2.7.6"
  }
 },
 "nbformat": 4,
 "nbformat_minor": 5
}
