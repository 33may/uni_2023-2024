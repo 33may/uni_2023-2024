{
 "cells": [
  {
   "cell_type": "code",
   "id": "initial_id",
   "metadata": {
    "collapsed": true,
    "ExecuteTime": {
     "end_time": "2024-05-27T17:18:25.029349Z",
     "start_time": "2024-05-27T17:18:24.122830Z"
    }
   },
   "source": [
    "import numpy as np\n",
    "from sympy import *\n",
    "\n",
    "# Define the matrix\n",
    "A = np.array([[4,-3,1], [-1,0, 5], [-1,3,2]])\n",
    "\n",
    "# Calculate the eigenvalues and eigenvectors\n",
    "eigenvalues, eigenvectors = np.linalg.eig(A)\n",
    "\n",
    "# Output the results\n",
    "print(\"Eigenvalues:\")\n",
    "print(eigenvalues)\n",
    "\n",
    "print(\"Eigenvectors:\")\n",
    "print(eigenvectors)"
   ],
   "outputs": [
    {
     "name": "stdout",
     "output_type": "stream",
     "text": [
      "Eigenvalues:\n",
      "[ 3.  6. -3.]\n",
      "Eigenvectors:\n",
      "[[-0.81649658 -0.57735027 -0.40824829]\n",
      " [-0.40824829  0.57735027 -0.81649658]\n",
      " [-0.40824829  0.57735027  0.40824829]]\n"
     ]
    }
   ],
   "execution_count": 2
  },
  {
   "metadata": {
    "ExecuteTime": {
     "end_time": "2024-05-24T14:35:56.690853Z",
     "start_time": "2024-05-24T14:35:56.682134Z"
    }
   },
   "cell_type": "code",
   "source": [
    "res = A @ eigenvectors[1]\n",
    "\n",
    "res"
   ],
   "id": "106542c1098302e",
   "outputs": [
    {
     "data": {
      "text/plain": [
       "array([-4.18154055, -3.67423461,  0.50730594])"
      ]
     },
     "execution_count": 7,
     "metadata": {},
     "output_type": "execute_result"
    }
   ],
   "execution_count": 7
  },
  {
   "metadata": {
    "ExecuteTime": {
     "end_time": "2024-05-24T14:42:16.375529Z",
     "start_time": "2024-05-24T14:42:16.369336Z"
    }
   },
   "cell_type": "code",
   "source": [
    "vectors = eigenvectors.transpose()\n",
    "\n",
    "vec = vectors[1]\n",
    "\n",
    "np.array(vec) * -1"
   ],
   "id": "bddeaa6cc37882ed",
   "outputs": [
    {
     "data": {
      "text/plain": [
       "array([ 0.57735027, -0.57735027, -0.57735027])"
      ]
     },
     "execution_count": 25,
     "metadata": {},
     "output_type": "execute_result"
    }
   ],
   "execution_count": 25
  },
  {
   "metadata": {
    "ExecuteTime": {
     "end_time": "2024-05-24T14:42:21.808588Z",
     "start_time": "2024-05-24T14:42:21.804221Z"
    }
   },
   "cell_type": "code",
   "source": [
    "res = A @ np.array(vec) * -1\n",
    "\n",
    "res / 6"
   ],
   "id": "b3f6fb457a037ffb",
   "outputs": [
    {
     "data": {
      "text/plain": [
       "array([ 0.57735027, -0.57735027, -0.57735027])"
      ]
     },
     "execution_count": 26,
     "metadata": {},
     "output_type": "execute_result"
    }
   ],
   "execution_count": 26
  },
  {
   "metadata": {
    "ExecuteTime": {
     "end_time": "2024-05-25T12:15:46.947565Z",
     "start_time": "2024-05-25T12:15:46.828347Z"
    }
   },
   "cell_type": "code",
   "source": [
    "import numpy as np\n",
    "\n",
    "# Define the matrix\n",
    "A = np.array([[2,1],[0,-3]])\n",
    "\n",
    "# Calculate the eigenvalues and eigenvectors\n",
    "eigenvalues, eigenvectors = np.linalg.eig(A)\n",
    "\n",
    "# Output the results\n",
    "print(\"Eigenvalues:\")\n",
    "print(eigenvalues)\n",
    "\n",
    "print(\"Eigenvectors:\")\n",
    "print(eigenvectors)"
   ],
   "id": "3d0286117adca268",
   "outputs": [
    {
     "name": "stdout",
     "output_type": "stream",
     "text": [
      "Eigenvalues:\n",
      "[ 2. -3.]\n",
      "Eigenvectors:\n",
      "[[ 1.         -0.19611614]\n",
      " [ 0.          0.98058068]]\n"
     ]
    }
   ],
   "execution_count": 1
  },
  {
   "metadata": {
    "ExecuteTime": {
     "end_time": "2024-05-27T09:03:10.780631Z",
     "start_time": "2024-05-27T09:03:10.767576Z"
    }
   },
   "cell_type": "code",
   "source": "",
   "id": "dfda1a593faccc00",
   "outputs": [],
   "execution_count": 1
  },
  {
   "metadata": {
    "ExecuteTime": {
     "end_time": "2024-05-27T17:27:54.059143Z",
     "start_time": "2024-05-27T17:27:54.042006Z"
    }
   },
   "cell_type": "code",
   "source": [
    "C_m = Matrix(np.array([[1,0,0],[0,1/2,0],[0,0,1/3]]))\n",
    "\n",
    "C_m"
   ],
   "id": "e6007d0101015614",
   "outputs": [
    {
     "data": {
      "text/plain": [
       "Matrix([\n",
       "[1.0,   0,                 0],\n",
       "[  0, 0.5,                 0],\n",
       "[  0,   0, 0.333333333333333]])"
      ],
      "text/latex": "$\\displaystyle \\left[\\begin{matrix}1.0 & 0 & 0\\\\0 & 0.5 & 0\\\\0 & 0 & 0.333333333333333\\end{matrix}\\right]$"
     },
     "execution_count": 24,
     "metadata": {},
     "output_type": "execute_result"
    }
   ],
   "execution_count": 24
  },
  {
   "metadata": {
    "ExecuteTime": {
     "end_time": "2024-05-27T17:27:57.215527Z",
     "start_time": "2024-05-27T17:27:57.206326Z"
    }
   },
   "cell_type": "code",
   "source": [
    "C_inv_m = C_m.inv()\n",
    "C_inv_m\n",
    "\n",
    "# print(A_inv_m.eigenvals())\n",
    "# A_inv_m.eigenvects()"
   ],
   "id": "1fbccae89576f7bc",
   "outputs": [
    {
     "data": {
      "text/plain": [
       "Matrix([\n",
       "[1.0,   0,   0],\n",
       "[  0, 2.0,   0],\n",
       "[  0,   0, 3.0]])"
      ],
      "text/latex": "$\\displaystyle \\left[\\begin{matrix}1.0 & 0 & 0\\\\0 & 2.0 & 0\\\\0 & 0 & 3.0\\end{matrix}\\right]$"
     },
     "execution_count": 25,
     "metadata": {},
     "output_type": "execute_result"
    }
   ],
   "execution_count": 25
  },
  {
   "metadata": {
    "ExecuteTime": {
     "end_time": "2024-05-27T17:27:59.701317Z",
     "start_time": "2024-05-27T17:27:59.693986Z"
    }
   },
   "cell_type": "code",
   "source": [
    "A = Matrix(np.array([[-2,2,3],[2,-1,6],[3,6,1]]))\n",
    "\n",
    "A"
   ],
   "id": "9d2ad1a23863a9e8",
   "outputs": [
    {
     "data": {
      "text/plain": [
       "Matrix([\n",
       "[-2,  2, 3],\n",
       "[ 2, -1, 6],\n",
       "[ 3,  6, 1]])"
      ],
      "text/latex": "$\\displaystyle \\left[\\begin{matrix}-2 & 2 & 3\\\\2 & -1 & 6\\\\3 & 6 & 1\\end{matrix}\\right]$"
     },
     "execution_count": 26,
     "metadata": {},
     "output_type": "execute_result"
    }
   ],
   "execution_count": 26
  },
  {
   "metadata": {
    "ExecuteTime": {
     "end_time": "2024-05-27T17:28:11.976234Z",
     "start_time": "2024-05-27T17:28:11.958005Z"
    }
   },
   "cell_type": "code",
   "source": [
    "res = C_inv_m @ A @ C_m\n",
    "# res = A @ C_inv_m\n",
    "res"
   ],
   "id": "659f0998b64cbabd",
   "outputs": [
    {
     "data": {
      "text/plain": [
       "Matrix([\n",
       "[-2.0,  1.0, 1.0],\n",
       "[ 4.0, -1.0, 4.0],\n",
       "[ 9.0,  9.0, 1.0]])"
      ],
      "text/latex": "$\\displaystyle \\left[\\begin{matrix}-2.0 & 1.0 & 1.0\\\\4.0 & -1.0 & 4.0\\\\9.0 & 9.0 & 1.0\\end{matrix}\\right]$"
     },
     "execution_count": 27,
     "metadata": {},
     "output_type": "execute_result"
    }
   ],
   "execution_count": 27
  },
  {
   "metadata": {
    "ExecuteTime": {
     "end_time": "2024-05-27T17:26:19.359510Z",
     "start_time": "2024-05-27T17:26:19.338993Z"
    }
   },
   "cell_type": "code",
   "source": [
    "ans = C_m @ res\n",
    "\n",
    "ans"
   ],
   "id": "305f8f7e3bd23166",
   "outputs": [
    {
     "data": {
      "text/plain": [
       "Matrix([\n",
       "[-2,  1, 1],\n",
       "[ 4, -1, 4],\n",
       "[ 9,  9, 1]])"
      ],
      "text/latex": "$\\displaystyle \\left[\\begin{matrix}-2 & 1 & 1\\\\4 & -1 & 4\\\\9 & 9 & 1\\end{matrix}\\right]$"
     },
     "execution_count": 21,
     "metadata": {},
     "output_type": "execute_result"
    }
   ],
   "execution_count": 21
  },
  {
   "metadata": {},
   "cell_type": "code",
   "outputs": [],
   "execution_count": null,
   "source": "",
   "id": "14e4cf4956182fcb"
  }
 ],
 "metadata": {
  "kernelspec": {
   "display_name": "Python 3",
   "language": "python",
   "name": "python3"
  },
  "language_info": {
   "codemirror_mode": {
    "name": "ipython",
    "version": 2
   },
   "file_extension": ".py",
   "mimetype": "text/x-python",
   "name": "python",
   "nbconvert_exporter": "python",
   "pygments_lexer": "ipython2",
   "version": "2.7.6"
  }
 },
 "nbformat": 4,
 "nbformat_minor": 5
}
